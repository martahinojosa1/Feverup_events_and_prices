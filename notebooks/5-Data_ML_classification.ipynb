{
 "cells": [
  {
   "cell_type": "code",
   "execution_count": 10,
   "metadata": {},
   "outputs": [],
   "source": [
    "import numpy as np\n",
    "import pandas as pd\n",
    "import matplotlib.pyplot as plt"
   ]
  },
  {
   "cell_type": "markdown",
   "metadata": {},
   "source": [
    "## Creación nuevos .csv con filtros para modelos ML "
   ]
  },
  {
   "cell_type": "markdown",
   "metadata": {},
   "source": [
    "### 1. Datos con precios no superiores a 100 (modelos regresión)\n",
    ".csv creado -> tickets_filtrados_100.csv"
   ]
  },
  {
   "cell_type": "code",
   "execution_count": 11,
   "metadata": {},
   "outputs": [
    {
     "data": {
      "text/html": [
       "<div>\n",
       "<style scoped>\n",
       "    .dataframe tbody tr th:only-of-type {\n",
       "        vertical-align: middle;\n",
       "    }\n",
       "\n",
       "    .dataframe tbody tr th {\n",
       "        vertical-align: top;\n",
       "    }\n",
       "\n",
       "    .dataframe thead th {\n",
       "        text-align: right;\n",
       "    }\n",
       "</style>\n",
       "<table border=\"1\" class=\"dataframe\">\n",
       "  <thead>\n",
       "    <tr style=\"text-align: right;\">\n",
       "      <th></th>\n",
       "      <th>event_url</th>\n",
       "      <th>title</th>\n",
       "      <th>datetime_local</th>\n",
       "      <th>city</th>\n",
       "      <th>state</th>\n",
       "      <th>country</th>\n",
       "      <th>postal_code</th>\n",
       "      <th>ticket_id</th>\n",
       "      <th>ticket_price</th>\n",
       "      <th>total_price</th>\n",
       "      <th>quantity</th>\n",
       "      <th>event_category</th>\n",
       "    </tr>\n",
       "  </thead>\n",
       "  <tbody>\n",
       "    <tr>\n",
       "      <th>0</th>\n",
       "      <td>https://feverup.com/m/100120</td>\n",
       "      <td>Top Stand-Up Comedy in Covent Garden</td>\n",
       "      <td>2023-10-27 20:30:00</td>\n",
       "      <td>London</td>\n",
       "      <td>England</td>\n",
       "      <td>GB</td>\n",
       "      <td>WC2H 9LA</td>\n",
       "      <td>36853293</td>\n",
       "      <td>16.0</td>\n",
       "      <td>16.0</td>\n",
       "      <td>50</td>\n",
       "      <td>THEATER</td>\n",
       "    </tr>\n",
       "    <tr>\n",
       "      <th>1</th>\n",
       "      <td>https://feverup.com/m/100120</td>\n",
       "      <td>Top Stand-Up Comedy in Covent Garden</td>\n",
       "      <td>2023-10-27 20:30:00</td>\n",
       "      <td>London</td>\n",
       "      <td>England</td>\n",
       "      <td>GB</td>\n",
       "      <td>WC2H 9LA</td>\n",
       "      <td>36853261</td>\n",
       "      <td>20.0</td>\n",
       "      <td>20.0</td>\n",
       "      <td>50</td>\n",
       "      <td>THEATER</td>\n",
       "    </tr>\n",
       "    <tr>\n",
       "      <th>2</th>\n",
       "      <td>https://feverup.com/m/100120</td>\n",
       "      <td>Top Stand-Up Comedy in Covent Garden</td>\n",
       "      <td>2023-10-20 20:30:00</td>\n",
       "      <td>London</td>\n",
       "      <td>England</td>\n",
       "      <td>GB</td>\n",
       "      <td>WC2H 9LA</td>\n",
       "      <td>36853292</td>\n",
       "      <td>16.0</td>\n",
       "      <td>16.0</td>\n",
       "      <td>50</td>\n",
       "      <td>THEATER</td>\n",
       "    </tr>\n",
       "    <tr>\n",
       "      <th>3</th>\n",
       "      <td>https://feverup.com/m/100120</td>\n",
       "      <td>Top Stand-Up Comedy in Covent Garden</td>\n",
       "      <td>2023-10-20 20:30:00</td>\n",
       "      <td>London</td>\n",
       "      <td>England</td>\n",
       "      <td>GB</td>\n",
       "      <td>WC2H 9LA</td>\n",
       "      <td>36853259</td>\n",
       "      <td>20.0</td>\n",
       "      <td>20.0</td>\n",
       "      <td>50</td>\n",
       "      <td>THEATER</td>\n",
       "    </tr>\n",
       "    <tr>\n",
       "      <th>4</th>\n",
       "      <td>https://feverup.com/m/100120</td>\n",
       "      <td>Top Stand-Up Comedy in Covent Garden</td>\n",
       "      <td>2023-10-21 20:30:00</td>\n",
       "      <td>London</td>\n",
       "      <td>England</td>\n",
       "      <td>GB</td>\n",
       "      <td>WC2H 9LA</td>\n",
       "      <td>36853324</td>\n",
       "      <td>17.0</td>\n",
       "      <td>17.0</td>\n",
       "      <td>50</td>\n",
       "      <td>THEATER</td>\n",
       "    </tr>\n",
       "  </tbody>\n",
       "</table>\n",
       "</div>"
      ],
      "text/plain": [
       "                      event_url                                 title  \\\n",
       "0  https://feverup.com/m/100120  Top Stand-Up Comedy in Covent Garden   \n",
       "1  https://feverup.com/m/100120  Top Stand-Up Comedy in Covent Garden   \n",
       "2  https://feverup.com/m/100120  Top Stand-Up Comedy in Covent Garden   \n",
       "3  https://feverup.com/m/100120  Top Stand-Up Comedy in Covent Garden   \n",
       "4  https://feverup.com/m/100120  Top Stand-Up Comedy in Covent Garden   \n",
       "\n",
       "        datetime_local    city    state country postal_code  ticket_id  \\\n",
       "0  2023-10-27 20:30:00  London  England      GB    WC2H 9LA   36853293   \n",
       "1  2023-10-27 20:30:00  London  England      GB    WC2H 9LA   36853261   \n",
       "2  2023-10-20 20:30:00  London  England      GB    WC2H 9LA   36853292   \n",
       "3  2023-10-20 20:30:00  London  England      GB    WC2H 9LA   36853259   \n",
       "4  2023-10-21 20:30:00  London  England      GB    WC2H 9LA   36853324   \n",
       "\n",
       "   ticket_price  total_price  quantity event_category  \n",
       "0          16.0         16.0        50        THEATER  \n",
       "1          20.0         20.0        50        THEATER  \n",
       "2          16.0         16.0        50        THEATER  \n",
       "3          20.0         20.0        50        THEATER  \n",
       "4          17.0         17.0        50        THEATER  "
      ]
     },
     "execution_count": 11,
     "metadata": {},
     "output_type": "execute_result"
    }
   ],
   "source": [
    "link_data = \"https://docs.google.com/spreadsheets/d/1QvsVM0K2YZWGuFNoKJzaZrRFsvCtmYbMCTvf3twFCgY/export?format=csv\"\n",
    "tickets = pd.read_csv(link_data)\n",
    "tickets.head()"
   ]
  },
  {
   "cell_type": "code",
   "execution_count": 12,
   "metadata": {},
   "outputs": [
    {
     "data": {
      "text/plain": [
       "(1636, 12)"
      ]
     },
     "execution_count": 12,
     "metadata": {},
     "output_type": "execute_result"
    }
   ],
   "source": [
    "# Copia del df con 'ticket_price' no mayor de 100\n",
    "tickets_copy_100 = tickets[tickets['ticket_price'] <= 100].copy()\n",
    "tickets_copy_100.shape"
   ]
  },
  {
   "cell_type": "code",
   "execution_count": 13,
   "metadata": {},
   "outputs": [],
   "source": [
    "# Guardar el DataFrame como un archivo CSV\n",
    "#tickets_copy_100.to_csv('tickets_filtrados_100.csv', index=False)"
   ]
  },
  {
   "cell_type": "markdown",
   "metadata": {},
   "source": [
    "### 2. Datos con variables codificadas y de mayor correlación (modelos clasificación)\n",
    ".csv creado -> tickets_ML_clasificacion.csv"
   ]
  },
  {
   "cell_type": "markdown",
   "metadata": {},
   "source": [
    "#### Dos nuevas columnas de precios (categórica y discreta)"
   ]
  },
  {
   "cell_type": "code",
   "execution_count": 14,
   "metadata": {},
   "outputs": [],
   "source": [
    "link_data = \"https://docs.google.com/spreadsheets/d/1QvsVM0K2YZWGuFNoKJzaZrRFsvCtmYbMCTvf3twFCgY/export?format=csv\"\n",
    "tickets = pd.read_csv(link_data)"
   ]
  },
  {
   "cell_type": "code",
   "execution_count": 15,
   "metadata": {},
   "outputs": [
    {
     "name": "stdout",
     "output_type": "stream",
     "text": [
      "                      event_url                                 title  \\\n",
      "0  https://feverup.com/m/100120  Top Stand-Up Comedy in Covent Garden   \n",
      "1  https://feverup.com/m/100120  Top Stand-Up Comedy in Covent Garden   \n",
      "2  https://feverup.com/m/100120  Top Stand-Up Comedy in Covent Garden   \n",
      "3  https://feverup.com/m/100120  Top Stand-Up Comedy in Covent Garden   \n",
      "4  https://feverup.com/m/100120  Top Stand-Up Comedy in Covent Garden   \n",
      "\n",
      "        datetime_local    city    state country postal_code  ticket_id  \\\n",
      "0  2023-10-27 20:30:00  London  England      GB    WC2H 9LA   36853293   \n",
      "1  2023-10-27 20:30:00  London  England      GB    WC2H 9LA   36853261   \n",
      "2  2023-10-20 20:30:00  London  England      GB    WC2H 9LA   36853292   \n",
      "3  2023-10-20 20:30:00  London  England      GB    WC2H 9LA   36853259   \n",
      "4  2023-10-21 20:30:00  London  England      GB    WC2H 9LA   36853324   \n",
      "\n",
      "   ticket_price  total_price  quantity event_category  price_category  \\\n",
      "0          16.0         16.0        50        THEATER  very_low_price   \n",
      "1          20.0         20.0        50        THEATER       low_price   \n",
      "2          16.0         16.0        50        THEATER  very_low_price   \n",
      "3          20.0         20.0        50        THEATER       low_price   \n",
      "4          17.0         17.0        50        THEATER  very_low_price   \n",
      "\n",
      "  price_level  \n",
      "0           1  \n",
      "1           2  \n",
      "2           1  \n",
      "3           2  \n",
      "4           1  \n"
     ]
    }
   ],
   "source": [
    "# NUEVAS COLUMNAS 'price_category' y 'price_level'\n",
    "\n",
    "# Definir los rangos y las etiquetas para las categorías de la nueva columna\n",
    "rangos = [0, 20, 50, 100, 200, 300]\n",
    "etiquetas = ['very_low_price', 'low_price', 'middle_price', 'middle_high_price', 'high_price']\n",
    "\n",
    "# Crear las columnas nuevas 'price_category' y 'price_level'\n",
    "tickets['price_category'] = pd.cut(tickets['ticket_price'], bins=rangos, labels=etiquetas, right=False)     # 'price_category' usando pd.cut()\n",
    "tickets['price_level'] = tickets['price_category'].map({'very_low_price':1, 'low_price': 2, 'middle_price': 3, 'middle_high_price': 4, 'high_price': 5})   # 'price_level' con .map -> mapear las categorías a números del 1 al 5\n",
    "\n",
    "print(tickets.head())"
   ]
  },
  {
   "cell_type": "code",
   "execution_count": 16,
   "metadata": {},
   "outputs": [
    {
     "data": {
      "text/plain": [
       "1    1041\n",
       "4     523\n",
       "5     496\n",
       "2     307\n",
       "3     288\n",
       "Name: price_level, dtype: int64"
      ]
     },
     "execution_count": 16,
     "metadata": {},
     "output_type": "execute_result"
    }
   ],
   "source": [
    "# Ver reparto de datos con los nuevos niveles de precios\n",
    "tickets['price_level'].value_counts()"
   ]
  },
  {
   "cell_type": "markdown",
   "metadata": {},
   "source": [
    "#### Nueva columna con día de la semana (1-7, lunes-domingo)"
   ]
  },
  {
   "cell_type": "code",
   "execution_count": 17,
   "metadata": {},
   "outputs": [
    {
     "data": {
      "text/plain": [
       "4    525\n",
       "3    522\n",
       "2    392\n",
       "6    345\n",
       "7    336\n",
       "5    283\n",
       "1    252\n",
       "Name: day, dtype: int64"
      ]
     },
     "execution_count": 17,
     "metadata": {},
     "output_type": "execute_result"
    }
   ],
   "source": [
    "tickets['datetime_local'] = pd.to_datetime(tickets['datetime_local'])       # Convertir la columna 'datetime_local' a tipo datetime\n",
    "tickets['day'] = tickets['datetime_local'].dt.weekday + 1                   # Extraer el día de la semana y sumar 1 para ajustar los valores a 1-7\n",
    "\n",
    "tickets['day'].value_counts()                                               # Comprobar el reparto de los datos"
   ]
  },
  {
   "cell_type": "markdown",
   "metadata": {},
   "source": [
    "#### Nueva columna con numeración 1-4 (mañana, mediodía, tarde, noche)"
   ]
  },
  {
   "cell_type": "code",
   "execution_count": 18,
   "metadata": {},
   "outputs": [
    {
     "data": {
      "text/plain": [
       "3    1010\n",
       "2     808\n",
       "4     632\n",
       "1     205\n",
       "Name: event_time, dtype: int64"
      ]
     },
     "execution_count": 18,
     "metadata": {},
     "output_type": "execute_result"
    }
   ],
   "source": [
    "# Definir las condiciones para cada rango horario\n",
    "conditions = [\n",
    "    (tickets['datetime_local'].dt.hour < 12),                                               # Mañana (< 12:00)\n",
    "    (tickets['datetime_local'].dt.hour >= 12) & (tickets['datetime_local'].dt.hour < 15),   # Mediodía (12:00 - 15:00)\n",
    "    (tickets['datetime_local'].dt.hour >= 15) & (tickets['datetime_local'].dt.hour < 19),   # Tarde (15:00 - 19:00)\n",
    "    (tickets['datetime_local'].dt.hour >= 19)                                               # Noche (> 19:00)\n",
    "]\n",
    "\n",
    "# Asignar un número a cada rango horario\n",
    "values = [1, 2, 3, 4]\n",
    "\n",
    "# Crear la nueva columna 'time_of_day' utilizando np.select() para aplicar las condiciones\n",
    "tickets['event_time'] = np.select(conditions, values)\n",
    "\n",
    "tickets['event_time'].value_counts()    "
   ]
  },
  {
   "cell_type": "markdown",
   "metadata": {},
   "source": [
    "#### Codificar columnas de categorías para seleccionar las de mayor correlación"
   ]
  },
  {
   "cell_type": "code",
   "execution_count": 19,
   "metadata": {},
   "outputs": [],
   "source": [
    "# Aplicar codificación one-hot a la columna 'event_category'\n",
    "encoded_categories = pd.get_dummies(tickets['event_category'], prefix='category')\n",
    "\n",
    "# Concatenar las columnas codificadas con el DataFrame original\n",
    "tickets = pd.concat([tickets, encoded_categories], axis=1)"
   ]
  },
  {
   "cell_type": "code",
   "execution_count": 20,
   "metadata": {},
   "outputs": [],
   "source": [
    "tickets['price_level'] = tickets['price_level'].astype(int) "
   ]
  },
  {
   "cell_type": "code",
   "execution_count": 21,
   "metadata": {},
   "outputs": [
    {
     "data": {
      "text/html": [
       "<div>\n",
       "<style scoped>\n",
       "    .dataframe tbody tr th:only-of-type {\n",
       "        vertical-align: middle;\n",
       "    }\n",
       "\n",
       "    .dataframe tbody tr th {\n",
       "        vertical-align: top;\n",
       "    }\n",
       "\n",
       "    .dataframe thead th {\n",
       "        text-align: right;\n",
       "    }\n",
       "</style>\n",
       "<table border=\"1\" class=\"dataframe\">\n",
       "  <thead>\n",
       "    <tr style=\"text-align: right;\">\n",
       "      <th></th>\n",
       "      <th>price_level</th>\n",
       "      <th>day</th>\n",
       "      <th>quantity</th>\n",
       "      <th>event_time</th>\n",
       "      <th>category_MIX</th>\n",
       "      <th>category_TASTING</th>\n",
       "      <th>category_THEATER</th>\n",
       "      <th>category_WELLNESS</th>\n",
       "      <th>category_CONCERT</th>\n",
       "      <th>category_IGHTLIF</th>\n",
       "    </tr>\n",
       "  </thead>\n",
       "  <tbody>\n",
       "    <tr>\n",
       "      <th>price_level</th>\n",
       "      <td>1.000000</td>\n",
       "      <td>0.380090</td>\n",
       "      <td>-0.504342</td>\n",
       "      <td>0.073392</td>\n",
       "      <td>0.901899</td>\n",
       "      <td>-0.121348</td>\n",
       "      <td>-0.078888</td>\n",
       "      <td>-0.013308</td>\n",
       "      <td>-0.041847</td>\n",
       "      <td>-0.816036</td>\n",
       "    </tr>\n",
       "    <tr>\n",
       "      <th>day</th>\n",
       "      <td>0.380090</td>\n",
       "      <td>1.000000</td>\n",
       "      <td>0.191394</td>\n",
       "      <td>-0.151019</td>\n",
       "      <td>0.259281</td>\n",
       "      <td>0.384017</td>\n",
       "      <td>0.108525</td>\n",
       "      <td>0.136077</td>\n",
       "      <td>0.096467</td>\n",
       "      <td>-0.556513</td>\n",
       "    </tr>\n",
       "    <tr>\n",
       "      <th>quantity</th>\n",
       "      <td>-0.504342</td>\n",
       "      <td>0.191394</td>\n",
       "      <td>1.000000</td>\n",
       "      <td>-0.053572</td>\n",
       "      <td>-0.679805</td>\n",
       "      <td>0.578428</td>\n",
       "      <td>0.323765</td>\n",
       "      <td>0.102000</td>\n",
       "      <td>0.384554</td>\n",
       "      <td>0.172468</td>\n",
       "    </tr>\n",
       "    <tr>\n",
       "      <th>event_time</th>\n",
       "      <td>0.073392</td>\n",
       "      <td>-0.151019</td>\n",
       "      <td>-0.053572</td>\n",
       "      <td>1.000000</td>\n",
       "      <td>0.088404</td>\n",
       "      <td>-0.231155</td>\n",
       "      <td>0.164202</td>\n",
       "      <td>-0.245649</td>\n",
       "      <td>0.124199</td>\n",
       "      <td>0.024726</td>\n",
       "    </tr>\n",
       "    <tr>\n",
       "      <th>category_MIX</th>\n",
       "      <td>0.901899</td>\n",
       "      <td>0.259281</td>\n",
       "      <td>-0.679805</td>\n",
       "      <td>0.088404</td>\n",
       "      <td>1.000000</td>\n",
       "      <td>-0.270991</td>\n",
       "      <td>-0.112889</td>\n",
       "      <td>-0.115866</td>\n",
       "      <td>-0.121614</td>\n",
       "      <td>-0.780015</td>\n",
       "    </tr>\n",
       "    <tr>\n",
       "      <th>category_TASTING</th>\n",
       "      <td>-0.121348</td>\n",
       "      <td>0.384017</td>\n",
       "      <td>0.578428</td>\n",
       "      <td>-0.231155</td>\n",
       "      <td>-0.270991</td>\n",
       "      <td>1.000000</td>\n",
       "      <td>-0.034857</td>\n",
       "      <td>-0.035776</td>\n",
       "      <td>-0.037551</td>\n",
       "      <td>-0.240844</td>\n",
       "    </tr>\n",
       "    <tr>\n",
       "      <th>category_THEATER</th>\n",
       "      <td>-0.078888</td>\n",
       "      <td>0.108525</td>\n",
       "      <td>0.323765</td>\n",
       "      <td>0.164202</td>\n",
       "      <td>-0.112889</td>\n",
       "      <td>-0.034857</td>\n",
       "      <td>1.000000</td>\n",
       "      <td>-0.014903</td>\n",
       "      <td>-0.015643</td>\n",
       "      <td>-0.100330</td>\n",
       "    </tr>\n",
       "    <tr>\n",
       "      <th>category_WELLNESS</th>\n",
       "      <td>-0.013308</td>\n",
       "      <td>0.136077</td>\n",
       "      <td>0.102000</td>\n",
       "      <td>-0.245649</td>\n",
       "      <td>-0.115866</td>\n",
       "      <td>-0.035776</td>\n",
       "      <td>-0.014903</td>\n",
       "      <td>1.000000</td>\n",
       "      <td>-0.016055</td>\n",
       "      <td>-0.102976</td>\n",
       "    </tr>\n",
       "    <tr>\n",
       "      <th>category_CONCERT</th>\n",
       "      <td>-0.041847</td>\n",
       "      <td>0.096467</td>\n",
       "      <td>0.384554</td>\n",
       "      <td>0.124199</td>\n",
       "      <td>-0.121614</td>\n",
       "      <td>-0.037551</td>\n",
       "      <td>-0.015643</td>\n",
       "      <td>-0.016055</td>\n",
       "      <td>1.000000</td>\n",
       "      <td>-0.108085</td>\n",
       "    </tr>\n",
       "    <tr>\n",
       "      <th>category_IGHTLIF</th>\n",
       "      <td>-0.816036</td>\n",
       "      <td>-0.556513</td>\n",
       "      <td>0.172468</td>\n",
       "      <td>0.024726</td>\n",
       "      <td>-0.780015</td>\n",
       "      <td>-0.240844</td>\n",
       "      <td>-0.100330</td>\n",
       "      <td>-0.102976</td>\n",
       "      <td>-0.108085</td>\n",
       "      <td>1.000000</td>\n",
       "    </tr>\n",
       "  </tbody>\n",
       "</table>\n",
       "</div>"
      ],
      "text/plain": [
       "                   price_level       day  quantity  event_time  category_MIX  \\\n",
       "price_level           1.000000  0.380090 -0.504342    0.073392      0.901899   \n",
       "day                   0.380090  1.000000  0.191394   -0.151019      0.259281   \n",
       "quantity             -0.504342  0.191394  1.000000   -0.053572     -0.679805   \n",
       "event_time            0.073392 -0.151019 -0.053572    1.000000      0.088404   \n",
       "category_MIX          0.901899  0.259281 -0.679805    0.088404      1.000000   \n",
       "category_TASTING     -0.121348  0.384017  0.578428   -0.231155     -0.270991   \n",
       "category_THEATER     -0.078888  0.108525  0.323765    0.164202     -0.112889   \n",
       "category_WELLNESS    -0.013308  0.136077  0.102000   -0.245649     -0.115866   \n",
       "category_CONCERT     -0.041847  0.096467  0.384554    0.124199     -0.121614   \n",
       "category_IGHTLIF     -0.816036 -0.556513  0.172468    0.024726     -0.780015   \n",
       "\n",
       "                   category_TASTING  category_THEATER  category_WELLNESS  \\\n",
       "price_level               -0.121348         -0.078888          -0.013308   \n",
       "day                        0.384017          0.108525           0.136077   \n",
       "quantity                   0.578428          0.323765           0.102000   \n",
       "event_time                -0.231155          0.164202          -0.245649   \n",
       "category_MIX              -0.270991         -0.112889          -0.115866   \n",
       "category_TASTING           1.000000         -0.034857          -0.035776   \n",
       "category_THEATER          -0.034857          1.000000          -0.014903   \n",
       "category_WELLNESS         -0.035776         -0.014903           1.000000   \n",
       "category_CONCERT          -0.037551         -0.015643          -0.016055   \n",
       "category_IGHTLIF          -0.240844         -0.100330          -0.102976   \n",
       "\n",
       "                   category_CONCERT  category_IGHTLIF  \n",
       "price_level               -0.041847         -0.816036  \n",
       "day                        0.096467         -0.556513  \n",
       "quantity                   0.384554          0.172468  \n",
       "event_time                 0.124199          0.024726  \n",
       "category_MIX              -0.121614         -0.780015  \n",
       "category_TASTING          -0.037551         -0.240844  \n",
       "category_THEATER          -0.015643         -0.100330  \n",
       "category_WELLNESS         -0.016055         -0.102976  \n",
       "category_CONCERT           1.000000         -0.108085  \n",
       "category_IGHTLIF          -0.108085          1.000000  "
      ]
     },
     "execution_count": 21,
     "metadata": {},
     "output_type": "execute_result"
    }
   ],
   "source": [
    "correlation = tickets[['price_level', 'day', 'quantity', 'event_time', 'category_MIX', 'category_TASTING', 'category_THEATER', 'category_WELLNESS', 'category_CONCERT', 'category_IGHTLIF']].corr()\n",
    "correlation"
   ]
  },
  {
   "cell_type": "code",
   "execution_count": 22,
   "metadata": {},
   "outputs": [
    {
     "data": {
      "image/png": "[encoded data removed]",
      "text/plain": [
       "<Figure size 1200x800 with 2 Axes>"
      ]
     },
     "metadata": {},
     "output_type": "display_data"
    }
   ],
   "source": [
    "# Creación matriz correlación variables\n",
    "plt.figure(figsize=(12, 8))\n",
    "plt.imshow(correlation, cmap='coolwarm', aspect='auto')  # Visualizar matriz de correlación\n",
    "plt.colorbar(label='Correlation')  # Añadir barra de color\n",
    "plt.xticks(ticks=range(len(correlation)), labels=correlation.columns, rotation=90)  # Etiquetas en el eje x\n",
    "plt.yticks(ticks=range(len(correlation)), labels=correlation.columns)  # Etiquetas en el eje y\n",
    "plt.show()"
   ]
  },
  {
   "cell_type": "markdown",
   "metadata": {},
   "source": [
    "La correlación más alta de price level es con 'category_MIX' y 'category_IGHTLIF'.\n",
    "\n",
    "La magnitud de -0.82 indica una fuerte relación inversa, lo que sugiere que a medida que el precio aumenta, la probabilidad de que el evento pertenezca a la categoría 'IGHTLIF' (vida nocturna) disminuye significativamente.\n",
    "\n",
    "La magnitud de 0.90 indica una fuerte relación directa, lo que sugiere que a medida que el precio aumenta, la probabilidad de que el evento pertenezca a la categoría 'MIX' también aumenta significativamente.\n",
    "\n",
    "Dados los resultados, utilizaré para modelos de clasificación: \n",
    "- 'price_level' como variable dependiente y objetivo.\n",
    "- 'category_MIX', 'category_IGHTLIF', 'quantity', 'day'. "
   ]
  },
  {
   "cell_type": "code",
   "execution_count": 23,
   "metadata": {},
   "outputs": [],
   "source": [
    "# Guardar .csv con esas columnas\n",
    "tickets_ML_clasificacion = tickets[['price_level', 'category_MIX', 'category_IGHTLIF', 'quantity', 'day']]\n",
    "# tickets_ML_clasificacion.to_csv('tickets_modelos_ML_clasificacion.csv', index=False)"
   ]
  }
 ],
 "metadata": {
  "kernelspec": {
   "display_name": "entorno",
   "language": "python",
   "name": "python3"
  },
  "language_info": {
   "codemirror_mode": {
    "name": "ipython",
    "version": 3
   },
   "file_extension": ".py",
   "mimetype": "text/x-python",
   "name": "python",
   "nbconvert_exporter": "python",
   "pygments_lexer": "ipython3",
   "version": "3.10.10"
  }
 },
 "nbformat": 4,
 "nbformat_minor": 2
}
