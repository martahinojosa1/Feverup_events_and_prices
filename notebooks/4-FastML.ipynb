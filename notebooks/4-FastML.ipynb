{
 "cells": [
  {
   "cell_type": "markdown",
   "metadata": {},
   "source": [
    "### Técnicas de fast machine learning"
   ]
  },
  {
   "cell_type": "code",
   "execution_count": 1,
   "metadata": {},
   "outputs": [],
   "source": [
    "import pandas as pd"
   ]
  },
  {
   "cell_type": "code",
   "execution_count": 2,
   "metadata": {},
   "outputs": [],
   "source": [
    "# !pip install pycaret"
   ]
  },
  {
   "cell_type": "code",
   "execution_count": 3,
   "metadata": {},
   "outputs": [
    {
     "data": {
      "text/html": [
       "<div>\n",
       "<style scoped>\n",
       "    .dataframe tbody tr th:only-of-type {\n",
       "        vertical-align: middle;\n",
       "    }\n",
       "\n",
       "    .dataframe tbody tr th {\n",
       "        vertical-align: top;\n",
       "    }\n",
       "\n",
       "    .dataframe thead th {\n",
       "        text-align: right;\n",
       "    }\n",
       "</style>\n",
       "<table border=\"1\" class=\"dataframe\">\n",
       "  <thead>\n",
       "    <tr style=\"text-align: right;\">\n",
       "      <th></th>\n",
       "      <th>event_url</th>\n",
       "      <th>title</th>\n",
       "      <th>datetime_local</th>\n",
       "      <th>city</th>\n",
       "      <th>state</th>\n",
       "      <th>country</th>\n",
       "      <th>postal_code</th>\n",
       "      <th>ticket_id</th>\n",
       "      <th>ticket_price</th>\n",
       "      <th>total_price</th>\n",
       "      <th>quantity</th>\n",
       "      <th>event_category</th>\n",
       "    </tr>\n",
       "  </thead>\n",
       "  <tbody>\n",
       "    <tr>\n",
       "      <th>0</th>\n",
       "      <td>https://feverup.com/m/100120</td>\n",
       "      <td>Top Stand-Up Comedy in Covent Garden</td>\n",
       "      <td>2023-10-27 20:30:00</td>\n",
       "      <td>London</td>\n",
       "      <td>England</td>\n",
       "      <td>GB</td>\n",
       "      <td>WC2H 9LA</td>\n",
       "      <td>36853293</td>\n",
       "      <td>16.0</td>\n",
       "      <td>16.0</td>\n",
       "      <td>50</td>\n",
       "      <td>THEATER</td>\n",
       "    </tr>\n",
       "    <tr>\n",
       "      <th>1</th>\n",
       "      <td>https://feverup.com/m/100120</td>\n",
       "      <td>Top Stand-Up Comedy in Covent Garden</td>\n",
       "      <td>2023-10-27 20:30:00</td>\n",
       "      <td>London</td>\n",
       "      <td>England</td>\n",
       "      <td>GB</td>\n",
       "      <td>WC2H 9LA</td>\n",
       "      <td>36853261</td>\n",
       "      <td>20.0</td>\n",
       "      <td>20.0</td>\n",
       "      <td>50</td>\n",
       "      <td>THEATER</td>\n",
       "    </tr>\n",
       "    <tr>\n",
       "      <th>2</th>\n",
       "      <td>https://feverup.com/m/100120</td>\n",
       "      <td>Top Stand-Up Comedy in Covent Garden</td>\n",
       "      <td>2023-10-20 20:30:00</td>\n",
       "      <td>London</td>\n",
       "      <td>England</td>\n",
       "      <td>GB</td>\n",
       "      <td>WC2H 9LA</td>\n",
       "      <td>36853292</td>\n",
       "      <td>16.0</td>\n",
       "      <td>16.0</td>\n",
       "      <td>50</td>\n",
       "      <td>THEATER</td>\n",
       "    </tr>\n",
       "    <tr>\n",
       "      <th>3</th>\n",
       "      <td>https://feverup.com/m/100120</td>\n",
       "      <td>Top Stand-Up Comedy in Covent Garden</td>\n",
       "      <td>2023-10-20 20:30:00</td>\n",
       "      <td>London</td>\n",
       "      <td>England</td>\n",
       "      <td>GB</td>\n",
       "      <td>WC2H 9LA</td>\n",
       "      <td>36853259</td>\n",
       "      <td>20.0</td>\n",
       "      <td>20.0</td>\n",
       "      <td>50</td>\n",
       "      <td>THEATER</td>\n",
       "    </tr>\n",
       "    <tr>\n",
       "      <th>4</th>\n",
       "      <td>https://feverup.com/m/100120</td>\n",
       "      <td>Top Stand-Up Comedy in Covent Garden</td>\n",
       "      <td>2023-10-21 20:30:00</td>\n",
       "      <td>London</td>\n",
       "      <td>England</td>\n",
       "      <td>GB</td>\n",
       "      <td>WC2H 9LA</td>\n",
       "      <td>36853324</td>\n",
       "      <td>17.0</td>\n",
       "      <td>17.0</td>\n",
       "      <td>50</td>\n",
       "      <td>THEATER</td>\n",
       "    </tr>\n",
       "  </tbody>\n",
       "</table>\n",
       "</div>"
      ],
      "text/plain": [
       "                      event_url                                 title  \\\n",
       "0  https://feverup.com/m/100120  Top Stand-Up Comedy in Covent Garden   \n",
       "1  https://feverup.com/m/100120  Top Stand-Up Comedy in Covent Garden   \n",
       "2  https://feverup.com/m/100120  Top Stand-Up Comedy in Covent Garden   \n",
       "3  https://feverup.com/m/100120  Top Stand-Up Comedy in Covent Garden   \n",
       "4  https://feverup.com/m/100120  Top Stand-Up Comedy in Covent Garden   \n",
       "\n",
       "        datetime_local    city    state country postal_code  ticket_id  \\\n",
       "0  2023-10-27 20:30:00  London  England      GB    WC2H 9LA   36853293   \n",
       "1  2023-10-27 20:30:00  London  England      GB    WC2H 9LA   36853261   \n",
       "2  2023-10-20 20:30:00  London  England      GB    WC2H 9LA   36853292   \n",
       "3  2023-10-20 20:30:00  London  England      GB    WC2H 9LA   36853259   \n",
       "4  2023-10-21 20:30:00  London  England      GB    WC2H 9LA   36853324   \n",
       "\n",
       "   ticket_price  total_price  quantity event_category  \n",
       "0          16.0         16.0        50        THEATER  \n",
       "1          20.0         20.0        50        THEATER  \n",
       "2          16.0         16.0        50        THEATER  \n",
       "3          20.0         20.0        50        THEATER  \n",
       "4          17.0         17.0        50        THEATER  "
      ]
     },
     "execution_count": 3,
     "metadata": {},
     "output_type": "execute_result"
    }
   ],
   "source": [
    "tickets = pd.read_csv('data/tickets_filtrados_100.csv')\n",
    "tickets.head()"
   ]
  },
  {
   "cell_type": "code",
   "execution_count": 4,
   "metadata": {},
   "outputs": [
    {
     "data": {
      "text/plain": [
       "Index(['event_url', 'title', 'datetime_local', 'city', 'state', 'country',\n",
       "       'postal_code', 'ticket_id', 'ticket_price', 'total_price', 'quantity',\n",
       "       'event_category'],\n",
       "      dtype='object')"
      ]
     },
     "execution_count": 4,
     "metadata": {},
     "output_type": "execute_result"
    }
   ],
   "source": [
    "tickets.columns"
   ]
  },
  {
   "cell_type": "code",
   "execution_count": 5,
   "metadata": {},
   "outputs": [],
   "source": [
    "tickets = tickets[['city', 'country', 'ticket_price', 'event_category']]"
   ]
  },
  {
   "cell_type": "code",
   "execution_count": 6,
   "metadata": {},
   "outputs": [
    {
     "data": {
      "text/html": [
       "<style type=\"text/css\">\n",
       "#T_3b9f1_row8_col1 {\n",
       "  background-color: lightgreen;\n",
       "}\n",
       "</style>\n",
       "<table id=\"T_3b9f1\">\n",
       "  <thead>\n",
       "    <tr>\n",
       "      <th class=\"blank level0\" >&nbsp;</th>\n",
       "      <th id=\"T_3b9f1_level0_col0\" class=\"col_heading level0 col0\" >Description</th>\n",
       "      <th id=\"T_3b9f1_level0_col1\" class=\"col_heading level0 col1\" >Value</th>\n",
       "    </tr>\n",
       "  </thead>\n",
       "  <tbody>\n",
       "    <tr>\n",
       "      <th id=\"T_3b9f1_level0_row0\" class=\"row_heading level0 row0\" >0</th>\n",
       "      <td id=\"T_3b9f1_row0_col0\" class=\"data row0 col0\" >Session id</td>\n",
       "      <td id=\"T_3b9f1_row0_col1\" class=\"data row0 col1\" >2269</td>\n",
       "    </tr>\n",
       "    <tr>\n",
       "      <th id=\"T_3b9f1_level0_row1\" class=\"row_heading level0 row1\" >1</th>\n",
       "      <td id=\"T_3b9f1_row1_col0\" class=\"data row1 col0\" >Target</td>\n",
       "      <td id=\"T_3b9f1_row1_col1\" class=\"data row1 col1\" >ticket_price</td>\n",
       "    </tr>\n",
       "    <tr>\n",
       "      <th id=\"T_3b9f1_level0_row2\" class=\"row_heading level0 row2\" >2</th>\n",
       "      <td id=\"T_3b9f1_row2_col0\" class=\"data row2 col0\" >Target type</td>\n",
       "      <td id=\"T_3b9f1_row2_col1\" class=\"data row2 col1\" >Regression</td>\n",
       "    </tr>\n",
       "    <tr>\n",
       "      <th id=\"T_3b9f1_level0_row3\" class=\"row_heading level0 row3\" >3</th>\n",
       "      <td id=\"T_3b9f1_row3_col0\" class=\"data row3 col0\" >Original data shape</td>\n",
       "      <td id=\"T_3b9f1_row3_col1\" class=\"data row3 col1\" >(2655, 4)</td>\n",
       "    </tr>\n",
       "    <tr>\n",
       "      <th id=\"T_3b9f1_level0_row4\" class=\"row_heading level0 row4\" >4</th>\n",
       "      <td id=\"T_3b9f1_row4_col0\" class=\"data row4 col0\" >Transformed data shape</td>\n",
       "      <td id=\"T_3b9f1_row4_col1\" class=\"data row4 col1\" >(2655, 16)</td>\n",
       "    </tr>\n",
       "    <tr>\n",
       "      <th id=\"T_3b9f1_level0_row5\" class=\"row_heading level0 row5\" >5</th>\n",
       "      <td id=\"T_3b9f1_row5_col0\" class=\"data row5 col0\" >Transformed train set shape</td>\n",
       "      <td id=\"T_3b9f1_row5_col1\" class=\"data row5 col1\" >(1858, 16)</td>\n",
       "    </tr>\n",
       "    <tr>\n",
       "      <th id=\"T_3b9f1_level0_row6\" class=\"row_heading level0 row6\" >6</th>\n",
       "      <td id=\"T_3b9f1_row6_col0\" class=\"data row6 col0\" >Transformed test set shape</td>\n",
       "      <td id=\"T_3b9f1_row6_col1\" class=\"data row6 col1\" >(797, 16)</td>\n",
       "    </tr>\n",
       "    <tr>\n",
       "      <th id=\"T_3b9f1_level0_row7\" class=\"row_heading level0 row7\" >7</th>\n",
       "      <td id=\"T_3b9f1_row7_col0\" class=\"data row7 col0\" >Categorical features</td>\n",
       "      <td id=\"T_3b9f1_row7_col1\" class=\"data row7 col1\" >3</td>\n",
       "    </tr>\n",
       "    <tr>\n",
       "      <th id=\"T_3b9f1_level0_row8\" class=\"row_heading level0 row8\" >8</th>\n",
       "      <td id=\"T_3b9f1_row8_col0\" class=\"data row8 col0\" >Preprocess</td>\n",
       "      <td id=\"T_3b9f1_row8_col1\" class=\"data row8 col1\" >True</td>\n",
       "    </tr>\n",
       "    <tr>\n",
       "      <th id=\"T_3b9f1_level0_row9\" class=\"row_heading level0 row9\" >9</th>\n",
       "      <td id=\"T_3b9f1_row9_col0\" class=\"data row9 col0\" >Imputation type</td>\n",
       "      <td id=\"T_3b9f1_row9_col1\" class=\"data row9 col1\" >simple</td>\n",
       "    </tr>\n",
       "    <tr>\n",
       "      <th id=\"T_3b9f1_level0_row10\" class=\"row_heading level0 row10\" >10</th>\n",
       "      <td id=\"T_3b9f1_row10_col0\" class=\"data row10 col0\" >Numeric imputation</td>\n",
       "      <td id=\"T_3b9f1_row10_col1\" class=\"data row10 col1\" >mean</td>\n",
       "    </tr>\n",
       "    <tr>\n",
       "      <th id=\"T_3b9f1_level0_row11\" class=\"row_heading level0 row11\" >11</th>\n",
       "      <td id=\"T_3b9f1_row11_col0\" class=\"data row11 col0\" >Categorical imputation</td>\n",
       "      <td id=\"T_3b9f1_row11_col1\" class=\"data row11 col1\" >mode</td>\n",
       "    </tr>\n",
       "    <tr>\n",
       "      <th id=\"T_3b9f1_level0_row12\" class=\"row_heading level0 row12\" >12</th>\n",
       "      <td id=\"T_3b9f1_row12_col0\" class=\"data row12 col0\" >Maximum one-hot encoding</td>\n",
       "      <td id=\"T_3b9f1_row12_col1\" class=\"data row12 col1\" >25</td>\n",
       "    </tr>\n",
       "    <tr>\n",
       "      <th id=\"T_3b9f1_level0_row13\" class=\"row_heading level0 row13\" >13</th>\n",
       "      <td id=\"T_3b9f1_row13_col0\" class=\"data row13 col0\" >Encoding method</td>\n",
       "      <td id=\"T_3b9f1_row13_col1\" class=\"data row13 col1\" >None</td>\n",
       "    </tr>\n",
       "    <tr>\n",
       "      <th id=\"T_3b9f1_level0_row14\" class=\"row_heading level0 row14\" >14</th>\n",
       "      <td id=\"T_3b9f1_row14_col0\" class=\"data row14 col0\" >Fold Generator</td>\n",
       "      <td id=\"T_3b9f1_row14_col1\" class=\"data row14 col1\" >KFold</td>\n",
       "    </tr>\n",
       "    <tr>\n",
       "      <th id=\"T_3b9f1_level0_row15\" class=\"row_heading level0 row15\" >15</th>\n",
       "      <td id=\"T_3b9f1_row15_col0\" class=\"data row15 col0\" >Fold Number</td>\n",
       "      <td id=\"T_3b9f1_row15_col1\" class=\"data row15 col1\" >10</td>\n",
       "    </tr>\n",
       "    <tr>\n",
       "      <th id=\"T_3b9f1_level0_row16\" class=\"row_heading level0 row16\" >16</th>\n",
       "      <td id=\"T_3b9f1_row16_col0\" class=\"data row16 col0\" >CPU Jobs</td>\n",
       "      <td id=\"T_3b9f1_row16_col1\" class=\"data row16 col1\" >-1</td>\n",
       "    </tr>\n",
       "    <tr>\n",
       "      <th id=\"T_3b9f1_level0_row17\" class=\"row_heading level0 row17\" >17</th>\n",
       "      <td id=\"T_3b9f1_row17_col0\" class=\"data row17 col0\" >Use GPU</td>\n",
       "      <td id=\"T_3b9f1_row17_col1\" class=\"data row17 col1\" >False</td>\n",
       "    </tr>\n",
       "    <tr>\n",
       "      <th id=\"T_3b9f1_level0_row18\" class=\"row_heading level0 row18\" >18</th>\n",
       "      <td id=\"T_3b9f1_row18_col0\" class=\"data row18 col0\" >Log Experiment</td>\n",
       "      <td id=\"T_3b9f1_row18_col1\" class=\"data row18 col1\" >False</td>\n",
       "    </tr>\n",
       "    <tr>\n",
       "      <th id=\"T_3b9f1_level0_row19\" class=\"row_heading level0 row19\" >19</th>\n",
       "      <td id=\"T_3b9f1_row19_col0\" class=\"data row19 col0\" >Experiment Name</td>\n",
       "      <td id=\"T_3b9f1_row19_col1\" class=\"data row19 col1\" >reg-default-name</td>\n",
       "    </tr>\n",
       "    <tr>\n",
       "      <th id=\"T_3b9f1_level0_row20\" class=\"row_heading level0 row20\" >20</th>\n",
       "      <td id=\"T_3b9f1_row20_col0\" class=\"data row20 col0\" >USI</td>\n",
       "      <td id=\"T_3b9f1_row20_col1\" class=\"data row20 col1\" >42be</td>\n",
       "    </tr>\n",
       "  </tbody>\n",
       "</table>\n"
      ],
      "text/plain": [
       "<pandas.io.formats.style.Styler at 0x1e231980a90>"
      ]
     },
     "metadata": {},
     "output_type": "display_data"
    }
   ],
   "source": [
    "from pycaret.regression import *\n",
    "s = setup(tickets, target='ticket_price')"
   ]
  },
  {
   "cell_type": "code",
   "execution_count": 7,
   "metadata": {},
   "outputs": [
    {
     "data": {
      "text/html": [],
      "text/plain": [
       "<IPython.core.display.HTML object>"
      ]
     },
     "metadata": {},
     "output_type": "display_data"
    },
    {
     "data": {
      "text/html": [],
      "text/plain": [
       "<IPython.core.display.HTML object>"
      ]
     },
     "metadata": {},
     "output_type": "display_data"
    },
    {
     "data": {
      "text/html": [],
      "text/plain": [
       "<IPython.core.display.HTML object>"
      ]
     },
     "metadata": {},
     "output_type": "display_data"
    }
   ],
   "source": [
    "best_model = compare_models()"
   ]
  },
  {
   "cell_type": "code",
   "execution_count": 8,
   "metadata": {},
   "outputs": [
    {
     "data": {
      "text/html": [],
      "text/plain": [
       "<IPython.core.display.HTML object>"
      ]
     },
     "metadata": {},
     "output_type": "display_data"
    },
    {
     "data": {
      "text/html": [
       "<style type=\"text/css\">\n",
       "#T_c3d0c_row10_col0, #T_c3d0c_row10_col1, #T_c3d0c_row10_col2, #T_c3d0c_row10_col3, #T_c3d0c_row10_col4, #T_c3d0c_row10_col5 {\n",
       "  background: yellow;\n",
       "}\n",
       "</style>\n",
       "<table id=\"T_c3d0c\">\n",
       "  <thead>\n",
       "    <tr>\n",
       "      <th class=\"blank level0\" >&nbsp;</th>\n",
       "      <th id=\"T_c3d0c_level0_col0\" class=\"col_heading level0 col0\" >MAE</th>\n",
       "      <th id=\"T_c3d0c_level0_col1\" class=\"col_heading level0 col1\" >MSE</th>\n",
       "      <th id=\"T_c3d0c_level0_col2\" class=\"col_heading level0 col2\" >RMSE</th>\n",
       "      <th id=\"T_c3d0c_level0_col3\" class=\"col_heading level0 col3\" >R2</th>\n",
       "      <th id=\"T_c3d0c_level0_col4\" class=\"col_heading level0 col4\" >RMSLE</th>\n",
       "      <th id=\"T_c3d0c_level0_col5\" class=\"col_heading level0 col5\" >MAPE</th>\n",
       "    </tr>\n",
       "    <tr>\n",
       "      <th class=\"index_name level0\" >Fold</th>\n",
       "      <th class=\"blank col0\" >&nbsp;</th>\n",
       "      <th class=\"blank col1\" >&nbsp;</th>\n",
       "      <th class=\"blank col2\" >&nbsp;</th>\n",
       "      <th class=\"blank col3\" >&nbsp;</th>\n",
       "      <th class=\"blank col4\" >&nbsp;</th>\n",
       "      <th class=\"blank col5\" >&nbsp;</th>\n",
       "    </tr>\n",
       "  </thead>\n",
       "  <tbody>\n",
       "    <tr>\n",
       "      <th id=\"T_c3d0c_level0_row0\" class=\"row_heading level0 row0\" >0</th>\n",
       "      <td id=\"T_c3d0c_row0_col0\" class=\"data row0 col0\" >30.9605</td>\n",
       "      <td id=\"T_c3d0c_row0_col1\" class=\"data row0 col1\" >2459.5201</td>\n",
       "      <td id=\"T_c3d0c_row0_col2\" class=\"data row0 col2\" >49.5935</td>\n",
       "      <td id=\"T_c3d0c_row0_col3\" class=\"data row0 col3\" >0.6737</td>\n",
       "      <td id=\"T_c3d0c_row0_col4\" class=\"data row0 col4\" >0.3380</td>\n",
       "      <td id=\"T_c3d0c_row0_col5\" class=\"data row0 col5\" >0.2562</td>\n",
       "    </tr>\n",
       "    <tr>\n",
       "      <th id=\"T_c3d0c_level0_row1\" class=\"row_heading level0 row1\" >1</th>\n",
       "      <td id=\"T_c3d0c_row1_col0\" class=\"data row1 col0\" >26.6821</td>\n",
       "      <td id=\"T_c3d0c_row1_col1\" class=\"data row1 col1\" >2062.8376</td>\n",
       "      <td id=\"T_c3d0c_row1_col2\" class=\"data row1 col2\" >45.4185</td>\n",
       "      <td id=\"T_c3d0c_row1_col3\" class=\"data row1 col3\" >0.7184</td>\n",
       "      <td id=\"T_c3d0c_row1_col4\" class=\"data row1 col4\" >0.3113</td>\n",
       "      <td id=\"T_c3d0c_row1_col5\" class=\"data row1 col5\" >0.2223</td>\n",
       "    </tr>\n",
       "    <tr>\n",
       "      <th id=\"T_c3d0c_level0_row2\" class=\"row_heading level0 row2\" >2</th>\n",
       "      <td id=\"T_c3d0c_row2_col0\" class=\"data row2 col0\" >26.9090</td>\n",
       "      <td id=\"T_c3d0c_row2_col1\" class=\"data row2 col1\" >2029.6150</td>\n",
       "      <td id=\"T_c3d0c_row2_col2\" class=\"data row2 col2\" >45.0512</td>\n",
       "      <td id=\"T_c3d0c_row2_col3\" class=\"data row2 col3\" >0.7184</td>\n",
       "      <td id=\"T_c3d0c_row2_col4\" class=\"data row2 col4\" >0.3146</td>\n",
       "      <td id=\"T_c3d0c_row2_col5\" class=\"data row2 col5\" >0.2322</td>\n",
       "    </tr>\n",
       "    <tr>\n",
       "      <th id=\"T_c3d0c_level0_row3\" class=\"row_heading level0 row3\" >3</th>\n",
       "      <td id=\"T_c3d0c_row3_col0\" class=\"data row3 col0\" >26.6510</td>\n",
       "      <td id=\"T_c3d0c_row3_col1\" class=\"data row3 col1\" >1989.8231</td>\n",
       "      <td id=\"T_c3d0c_row3_col2\" class=\"data row3 col2\" >44.6074</td>\n",
       "      <td id=\"T_c3d0c_row3_col3\" class=\"data row3 col3\" >0.7693</td>\n",
       "      <td id=\"T_c3d0c_row3_col4\" class=\"data row3 col4\" >0.2879</td>\n",
       "      <td id=\"T_c3d0c_row3_col5\" class=\"data row3 col5\" >0.1925</td>\n",
       "    </tr>\n",
       "    <tr>\n",
       "      <th id=\"T_c3d0c_level0_row4\" class=\"row_heading level0 row4\" >4</th>\n",
       "      <td id=\"T_c3d0c_row4_col0\" class=\"data row4 col0\" >29.9826</td>\n",
       "      <td id=\"T_c3d0c_row4_col1\" class=\"data row4 col1\" >2314.3554</td>\n",
       "      <td id=\"T_c3d0c_row4_col2\" class=\"data row4 col2\" >48.1077</td>\n",
       "      <td id=\"T_c3d0c_row4_col3\" class=\"data row4 col3\" >0.6703</td>\n",
       "      <td id=\"T_c3d0c_row4_col4\" class=\"data row4 col4\" >0.3422</td>\n",
       "      <td id=\"T_c3d0c_row4_col5\" class=\"data row4 col5\" >0.2666</td>\n",
       "    </tr>\n",
       "    <tr>\n",
       "      <th id=\"T_c3d0c_level0_row5\" class=\"row_heading level0 row5\" >5</th>\n",
       "      <td id=\"T_c3d0c_row5_col0\" class=\"data row5 col0\" >30.3225</td>\n",
       "      <td id=\"T_c3d0c_row5_col1\" class=\"data row5 col1\" >2286.4756</td>\n",
       "      <td id=\"T_c3d0c_row5_col2\" class=\"data row5 col2\" >47.8171</td>\n",
       "      <td id=\"T_c3d0c_row5_col3\" class=\"data row5 col3\" >0.7236</td>\n",
       "      <td id=\"T_c3d0c_row5_col4\" class=\"data row5 col4\" >0.3237</td>\n",
       "      <td id=\"T_c3d0c_row5_col5\" class=\"data row5 col5\" >0.2407</td>\n",
       "    </tr>\n",
       "    <tr>\n",
       "      <th id=\"T_c3d0c_level0_row6\" class=\"row_heading level0 row6\" >6</th>\n",
       "      <td id=\"T_c3d0c_row6_col0\" class=\"data row6 col0\" >29.4834</td>\n",
       "      <td id=\"T_c3d0c_row6_col1\" class=\"data row6 col1\" >2246.9989</td>\n",
       "      <td id=\"T_c3d0c_row6_col2\" class=\"data row6 col2\" >47.4025</td>\n",
       "      <td id=\"T_c3d0c_row6_col3\" class=\"data row6 col3\" >0.7340</td>\n",
       "      <td id=\"T_c3d0c_row6_col4\" class=\"data row6 col4\" >0.3693</td>\n",
       "      <td id=\"T_c3d0c_row6_col5\" class=\"data row6 col5\" >0.2972</td>\n",
       "    </tr>\n",
       "    <tr>\n",
       "      <th id=\"T_c3d0c_level0_row7\" class=\"row_heading level0 row7\" >7</th>\n",
       "      <td id=\"T_c3d0c_row7_col0\" class=\"data row7 col0\" >29.4776</td>\n",
       "      <td id=\"T_c3d0c_row7_col1\" class=\"data row7 col1\" >2252.3813</td>\n",
       "      <td id=\"T_c3d0c_row7_col2\" class=\"data row7 col2\" >47.4593</td>\n",
       "      <td id=\"T_c3d0c_row7_col3\" class=\"data row7 col3\" >0.7401</td>\n",
       "      <td id=\"T_c3d0c_row7_col4\" class=\"data row7 col4\" >0.2962</td>\n",
       "      <td id=\"T_c3d0c_row7_col5\" class=\"data row7 col5\" >0.2113</td>\n",
       "    </tr>\n",
       "    <tr>\n",
       "      <th id=\"T_c3d0c_level0_row8\" class=\"row_heading level0 row8\" >8</th>\n",
       "      <td id=\"T_c3d0c_row8_col0\" class=\"data row8 col0\" >30.6688</td>\n",
       "      <td id=\"T_c3d0c_row8_col1\" class=\"data row8 col1\" >2408.5411</td>\n",
       "      <td id=\"T_c3d0c_row8_col2\" class=\"data row8 col2\" >49.0769</td>\n",
       "      <td id=\"T_c3d0c_row8_col3\" class=\"data row8 col3\" >0.7181</td>\n",
       "      <td id=\"T_c3d0c_row8_col4\" class=\"data row8 col4\" >0.3137</td>\n",
       "      <td id=\"T_c3d0c_row8_col5\" class=\"data row8 col5\" >0.2233</td>\n",
       "    </tr>\n",
       "    <tr>\n",
       "      <th id=\"T_c3d0c_level0_row9\" class=\"row_heading level0 row9\" >9</th>\n",
       "      <td id=\"T_c3d0c_row9_col0\" class=\"data row9 col0\" >29.4692</td>\n",
       "      <td id=\"T_c3d0c_row9_col1\" class=\"data row9 col1\" >2318.6404</td>\n",
       "      <td id=\"T_c3d0c_row9_col2\" class=\"data row9 col2\" >48.1523</td>\n",
       "      <td id=\"T_c3d0c_row9_col3\" class=\"data row9 col3\" >0.7152</td>\n",
       "      <td id=\"T_c3d0c_row9_col4\" class=\"data row9 col4\" >0.3239</td>\n",
       "      <td id=\"T_c3d0c_row9_col5\" class=\"data row9 col5\" >0.2361</td>\n",
       "    </tr>\n",
       "    <tr>\n",
       "      <th id=\"T_c3d0c_level0_row10\" class=\"row_heading level0 row10\" >Mean</th>\n",
       "      <td id=\"T_c3d0c_row10_col0\" class=\"data row10 col0\" >29.0607</td>\n",
       "      <td id=\"T_c3d0c_row10_col1\" class=\"data row10 col1\" >2236.9189</td>\n",
       "      <td id=\"T_c3d0c_row10_col2\" class=\"data row10 col2\" >47.2686</td>\n",
       "      <td id=\"T_c3d0c_row10_col3\" class=\"data row10 col3\" >0.7181</td>\n",
       "      <td id=\"T_c3d0c_row10_col4\" class=\"data row10 col4\" >0.3221</td>\n",
       "      <td id=\"T_c3d0c_row10_col5\" class=\"data row10 col5\" >0.2379</td>\n",
       "    </tr>\n",
       "    <tr>\n",
       "      <th id=\"T_c3d0c_level0_row11\" class=\"row_heading level0 row11\" >Std</th>\n",
       "      <td id=\"T_c3d0c_row11_col0\" class=\"data row11 col0\" >1.5891</td>\n",
       "      <td id=\"T_c3d0c_row11_col1\" class=\"data row11 col1\" >151.2655</td>\n",
       "      <td id=\"T_c3d0c_row11_col2\" class=\"data row11 col2\" >1.6105</td>\n",
       "      <td id=\"T_c3d0c_row11_col3\" class=\"data row11 col3\" >0.0277</td>\n",
       "      <td id=\"T_c3d0c_row11_col4\" class=\"data row11 col4\" >0.0223</td>\n",
       "      <td id=\"T_c3d0c_row11_col5\" class=\"data row11 col5\" >0.0282</td>\n",
       "    </tr>\n",
       "  </tbody>\n",
       "</table>\n"
      ],
      "text/plain": [
       "<pandas.io.formats.style.Styler at 0x1e231357820>"
      ]
     },
     "metadata": {},
     "output_type": "display_data"
    },
    {
     "data": {
      "text/html": [],
      "text/plain": [
       "<IPython.core.display.HTML object>"
      ]
     },
     "metadata": {},
     "output_type": "display_data"
    }
   ],
   "source": [
    "model = create_model('dt')"
   ]
  },
  {
   "cell_type": "code",
   "execution_count": 9,
   "metadata": {},
   "outputs": [
    {
     "data": {
      "text/html": [],
      "text/plain": [
       "<IPython.core.display.HTML object>"
      ]
     },
     "metadata": {},
     "output_type": "display_data"
    },
    {
     "data": {
      "text/html": [
       "<style type=\"text/css\">\n",
       "#T_a6cd7_row10_col0, #T_a6cd7_row10_col1, #T_a6cd7_row10_col2, #T_a6cd7_row10_col3, #T_a6cd7_row10_col4, #T_a6cd7_row10_col5 {\n",
       "  background: yellow;\n",
       "}\n",
       "</style>\n",
       "<table id=\"T_a6cd7\">\n",
       "  <thead>\n",
       "    <tr>\n",
       "      <th class=\"blank level0\" >&nbsp;</th>\n",
       "      <th id=\"T_a6cd7_level0_col0\" class=\"col_heading level0 col0\" >MAE</th>\n",
       "      <th id=\"T_a6cd7_level0_col1\" class=\"col_heading level0 col1\" >MSE</th>\n",
       "      <th id=\"T_a6cd7_level0_col2\" class=\"col_heading level0 col2\" >RMSE</th>\n",
       "      <th id=\"T_a6cd7_level0_col3\" class=\"col_heading level0 col3\" >R2</th>\n",
       "      <th id=\"T_a6cd7_level0_col4\" class=\"col_heading level0 col4\" >RMSLE</th>\n",
       "      <th id=\"T_a6cd7_level0_col5\" class=\"col_heading level0 col5\" >MAPE</th>\n",
       "    </tr>\n",
       "    <tr>\n",
       "      <th class=\"index_name level0\" >Fold</th>\n",
       "      <th class=\"blank col0\" >&nbsp;</th>\n",
       "      <th class=\"blank col1\" >&nbsp;</th>\n",
       "      <th class=\"blank col2\" >&nbsp;</th>\n",
       "      <th class=\"blank col3\" >&nbsp;</th>\n",
       "      <th class=\"blank col4\" >&nbsp;</th>\n",
       "      <th class=\"blank col5\" >&nbsp;</th>\n",
       "    </tr>\n",
       "  </thead>\n",
       "  <tbody>\n",
       "    <tr>\n",
       "      <th id=\"T_a6cd7_level0_row0\" class=\"row_heading level0 row0\" >0</th>\n",
       "      <td id=\"T_a6cd7_row0_col0\" class=\"data row0 col0\" >30.9997</td>\n",
       "      <td id=\"T_a6cd7_row0_col1\" class=\"data row0 col1\" >2459.4356</td>\n",
       "      <td id=\"T_a6cd7_row0_col2\" class=\"data row0 col2\" >49.5927</td>\n",
       "      <td id=\"T_a6cd7_row0_col3\" class=\"data row0 col3\" >0.6737</td>\n",
       "      <td id=\"T_a6cd7_row0_col4\" class=\"data row0 col4\" >0.3382</td>\n",
       "      <td id=\"T_a6cd7_row0_col5\" class=\"data row0 col5\" >0.2584</td>\n",
       "    </tr>\n",
       "    <tr>\n",
       "      <th id=\"T_a6cd7_level0_row1\" class=\"row_heading level0 row1\" >1</th>\n",
       "      <td id=\"T_a6cd7_row1_col0\" class=\"data row1 col0\" >27.0707</td>\n",
       "      <td id=\"T_a6cd7_row1_col1\" class=\"data row1 col1\" >2077.2730</td>\n",
       "      <td id=\"T_a6cd7_row1_col2\" class=\"data row1 col2\" >45.5771</td>\n",
       "      <td id=\"T_a6cd7_row1_col3\" class=\"data row1 col3\" >0.7164</td>\n",
       "      <td id=\"T_a6cd7_row1_col4\" class=\"data row1 col4\" >0.3164</td>\n",
       "      <td id=\"T_a6cd7_row1_col5\" class=\"data row1 col5\" >0.2282</td>\n",
       "    </tr>\n",
       "    <tr>\n",
       "      <th id=\"T_a6cd7_level0_row2\" class=\"row_heading level0 row2\" >2</th>\n",
       "      <td id=\"T_a6cd7_row2_col0\" class=\"data row2 col0\" >27.0149</td>\n",
       "      <td id=\"T_a6cd7_row2_col1\" class=\"data row2 col1\" >2029.9522</td>\n",
       "      <td id=\"T_a6cd7_row2_col2\" class=\"data row2 col2\" >45.0550</td>\n",
       "      <td id=\"T_a6cd7_row2_col3\" class=\"data row2 col3\" >0.7184</td>\n",
       "      <td id=\"T_a6cd7_row2_col4\" class=\"data row2 col4\" >0.3154</td>\n",
       "      <td id=\"T_a6cd7_row2_col5\" class=\"data row2 col5\" >0.2355</td>\n",
       "    </tr>\n",
       "    <tr>\n",
       "      <th id=\"T_a6cd7_level0_row3\" class=\"row_heading level0 row3\" >3</th>\n",
       "      <td id=\"T_a6cd7_row3_col0\" class=\"data row3 col0\" >26.5679</td>\n",
       "      <td id=\"T_a6cd7_row3_col1\" class=\"data row3 col1\" >1977.6795</td>\n",
       "      <td id=\"T_a6cd7_row3_col2\" class=\"data row3 col2\" >44.4711</td>\n",
       "      <td id=\"T_a6cd7_row3_col3\" class=\"data row3 col3\" >0.7707</td>\n",
       "      <td id=\"T_a6cd7_row3_col4\" class=\"data row3 col4\" >0.2831</td>\n",
       "      <td id=\"T_a6cd7_row3_col5\" class=\"data row3 col5\" >0.1940</td>\n",
       "    </tr>\n",
       "    <tr>\n",
       "      <th id=\"T_a6cd7_level0_row4\" class=\"row_heading level0 row4\" >4</th>\n",
       "      <td id=\"T_a6cd7_row4_col0\" class=\"data row4 col0\" >30.1733</td>\n",
       "      <td id=\"T_a6cd7_row4_col1\" class=\"data row4 col1\" >2325.4516</td>\n",
       "      <td id=\"T_a6cd7_row4_col2\" class=\"data row4 col2\" >48.2229</td>\n",
       "      <td id=\"T_a6cd7_row4_col3\" class=\"data row4 col3\" >0.6687</td>\n",
       "      <td id=\"T_a6cd7_row4_col4\" class=\"data row4 col4\" >0.3436</td>\n",
       "      <td id=\"T_a6cd7_row4_col5\" class=\"data row4 col5\" >0.2698</td>\n",
       "    </tr>\n",
       "    <tr>\n",
       "      <th id=\"T_a6cd7_level0_row5\" class=\"row_heading level0 row5\" >5</th>\n",
       "      <td id=\"T_a6cd7_row5_col0\" class=\"data row5 col0\" >30.2556</td>\n",
       "      <td id=\"T_a6cd7_row5_col1\" class=\"data row5 col1\" >2275.1311</td>\n",
       "      <td id=\"T_a6cd7_row5_col2\" class=\"data row5 col2\" >47.6983</td>\n",
       "      <td id=\"T_a6cd7_row5_col3\" class=\"data row5 col3\" >0.7250</td>\n",
       "      <td id=\"T_a6cd7_row5_col4\" class=\"data row5 col4\" >0.3228</td>\n",
       "      <td id=\"T_a6cd7_row5_col5\" class=\"data row5 col5\" >0.2420</td>\n",
       "    </tr>\n",
       "    <tr>\n",
       "      <th id=\"T_a6cd7_level0_row6\" class=\"row_heading level0 row6\" >6</th>\n",
       "      <td id=\"T_a6cd7_row6_col0\" class=\"data row6 col0\" >29.5155</td>\n",
       "      <td id=\"T_a6cd7_row6_col1\" class=\"data row6 col1\" >2247.0449</td>\n",
       "      <td id=\"T_a6cd7_row6_col2\" class=\"data row6 col2\" >47.4030</td>\n",
       "      <td id=\"T_a6cd7_row6_col3\" class=\"data row6 col3\" >0.7340</td>\n",
       "      <td id=\"T_a6cd7_row6_col4\" class=\"data row6 col4\" >0.3694</td>\n",
       "      <td id=\"T_a6cd7_row6_col5\" class=\"data row6 col5\" >0.2984</td>\n",
       "    </tr>\n",
       "    <tr>\n",
       "      <th id=\"T_a6cd7_level0_row7\" class=\"row_heading level0 row7\" >7</th>\n",
       "      <td id=\"T_a6cd7_row7_col0\" class=\"data row7 col0\" >29.5105</td>\n",
       "      <td id=\"T_a6cd7_row7_col1\" class=\"data row7 col1\" >2252.4273</td>\n",
       "      <td id=\"T_a6cd7_row7_col2\" class=\"data row7 col2\" >47.4597</td>\n",
       "      <td id=\"T_a6cd7_row7_col3\" class=\"data row7 col3\" >0.7401</td>\n",
       "      <td id=\"T_a6cd7_row7_col4\" class=\"data row7 col4\" >0.2962</td>\n",
       "      <td id=\"T_a6cd7_row7_col5\" class=\"data row7 col5\" >0.2125</td>\n",
       "    </tr>\n",
       "    <tr>\n",
       "      <th id=\"T_a6cd7_level0_row8\" class=\"row_heading level0 row8\" >8</th>\n",
       "      <td id=\"T_a6cd7_row8_col0\" class=\"data row8 col0\" >30.7019</td>\n",
       "      <td id=\"T_a6cd7_row8_col1\" class=\"data row8 col1\" >2408.5874</td>\n",
       "      <td id=\"T_a6cd7_row8_col2\" class=\"data row8 col2\" >49.0774</td>\n",
       "      <td id=\"T_a6cd7_row8_col3\" class=\"data row8 col3\" >0.7181</td>\n",
       "      <td id=\"T_a6cd7_row8_col4\" class=\"data row8 col4\" >0.3137</td>\n",
       "      <td id=\"T_a6cd7_row8_col5\" class=\"data row8 col5\" >0.2245</td>\n",
       "    </tr>\n",
       "    <tr>\n",
       "      <th id=\"T_a6cd7_level0_row9\" class=\"row_heading level0 row9\" >9</th>\n",
       "      <td id=\"T_a6cd7_row9_col0\" class=\"data row9 col0\" >29.9227</td>\n",
       "      <td id=\"T_a6cd7_row9_col1\" class=\"data row9 col1\" >2335.1345</td>\n",
       "      <td id=\"T_a6cd7_row9_col2\" class=\"data row9 col2\" >48.3232</td>\n",
       "      <td id=\"T_a6cd7_row9_col3\" class=\"data row9 col3\" >0.7131</td>\n",
       "      <td id=\"T_a6cd7_row9_col4\" class=\"data row9 col4\" >0.3297</td>\n",
       "      <td id=\"T_a6cd7_row9_col5\" class=\"data row9 col5\" >0.2419</td>\n",
       "    </tr>\n",
       "    <tr>\n",
       "      <th id=\"T_a6cd7_level0_row10\" class=\"row_heading level0 row10\" >Mean</th>\n",
       "      <td id=\"T_a6cd7_row10_col0\" class=\"data row10 col0\" >29.1733</td>\n",
       "      <td id=\"T_a6cd7_row10_col1\" class=\"data row10 col1\" >2238.8117</td>\n",
       "      <td id=\"T_a6cd7_row10_col2\" class=\"data row10 col2\" >47.2881</td>\n",
       "      <td id=\"T_a6cd7_row10_col3\" class=\"data row10 col3\" >0.7178</td>\n",
       "      <td id=\"T_a6cd7_row10_col4\" class=\"data row10 col4\" >0.3229</td>\n",
       "      <td id=\"T_a6cd7_row10_col5\" class=\"data row10 col5\" >0.2405</td>\n",
       "    </tr>\n",
       "    <tr>\n",
       "      <th id=\"T_a6cd7_level0_row11\" class=\"row_heading level0 row11\" >Std</th>\n",
       "      <td id=\"T_a6cd7_row11_col0\" class=\"data row11 col0\" >1.5654</td>\n",
       "      <td id=\"T_a6cd7_row11_col1\" class=\"data row11 col1\" >152.8930</td>\n",
       "      <td id=\"T_a6cd7_row11_col2\" class=\"data row11 col2\" >1.6285</td>\n",
       "      <td id=\"T_a6cd7_row11_col3\" class=\"data row11 col3\" >0.0283</td>\n",
       "      <td id=\"T_a6cd7_row11_col4\" class=\"data row11 col4\" >0.0231</td>\n",
       "      <td id=\"T_a6cd7_row11_col5\" class=\"data row11 col5\" >0.0281</td>\n",
       "    </tr>\n",
       "  </tbody>\n",
       "</table>\n"
      ],
      "text/plain": [
       "<pandas.io.formats.style.Styler at 0x1e231a4c1f0>"
      ]
     },
     "metadata": {},
     "output_type": "display_data"
    },
    {
     "data": {
      "text/html": [],
      "text/plain": [
       "<IPython.core.display.HTML object>"
      ]
     },
     "metadata": {},
     "output_type": "display_data"
    },
    {
     "name": "stdout",
     "output_type": "stream",
     "text": [
      "Fitting 10 folds for each of 10 candidates, totalling 100 fits\n",
      "Original model was better than the tuned model, hence it will be returned. NOTE: The display metrics are for the tuned model (not the original one).\n"
     ]
    }
   ],
   "source": [
    "tuned_model = tune_model(model)"
   ]
  },
  {
   "cell_type": "code",
   "execution_count": 10,
   "metadata": {},
   "outputs": [
    {
     "data": {
      "application/vnd.jupyter.widget-view+json": {
       "model_id": "16dc6f953b0542b7863f4faa3445f844",
       "version_major": 2,
       "version_minor": 0
      },
      "text/plain": [
       "interactive(children=(ToggleButtons(description='Plot Type:', icons=('',), options=(('Pipeline Plot', 'pipelin…"
      ]
     },
     "metadata": {},
     "output_type": "display_data"
    }
   ],
   "source": [
    "evaluate_model(model)"
   ]
  },
  {
   "cell_type": "code",
   "execution_count": 11,
   "metadata": {},
   "outputs": [
    {
     "data": {
      "text/html": [
       "<style type=\"text/css\">\n",
       "</style>\n",
       "<table id=\"T_2030c\">\n",
       "  <thead>\n",
       "    <tr>\n",
       "      <th class=\"blank level0\" >&nbsp;</th>\n",
       "      <th id=\"T_2030c_level0_col0\" class=\"col_heading level0 col0\" >Model</th>\n",
       "      <th id=\"T_2030c_level0_col1\" class=\"col_heading level0 col1\" >MAE</th>\n",
       "      <th id=\"T_2030c_level0_col2\" class=\"col_heading level0 col2\" >MSE</th>\n",
       "      <th id=\"T_2030c_level0_col3\" class=\"col_heading level0 col3\" >RMSE</th>\n",
       "      <th id=\"T_2030c_level0_col4\" class=\"col_heading level0 col4\" >R2</th>\n",
       "      <th id=\"T_2030c_level0_col5\" class=\"col_heading level0 col5\" >RMSLE</th>\n",
       "      <th id=\"T_2030c_level0_col6\" class=\"col_heading level0 col6\" >MAPE</th>\n",
       "    </tr>\n",
       "  </thead>\n",
       "  <tbody>\n",
       "    <tr>\n",
       "      <th id=\"T_2030c_level0_row0\" class=\"row_heading level0 row0\" >0</th>\n",
       "      <td id=\"T_2030c_row0_col0\" class=\"data row0 col0\" >Decision Tree Regressor</td>\n",
       "      <td id=\"T_2030c_row0_col1\" class=\"data row0 col1\" >28.6902</td>\n",
       "      <td id=\"T_2030c_row0_col2\" class=\"data row0 col2\" >2204.3823</td>\n",
       "      <td id=\"T_2030c_row0_col3\" class=\"data row0 col3\" >46.9508</td>\n",
       "      <td id=\"T_2030c_row0_col4\" class=\"data row0 col4\" >0.7341</td>\n",
       "      <td id=\"T_2030c_row0_col5\" class=\"data row0 col5\" >0.3046</td>\n",
       "      <td id=\"T_2030c_row0_col6\" class=\"data row0 col6\" >0.2167</td>\n",
       "    </tr>\n",
       "  </tbody>\n",
       "</table>\n"
      ],
      "text/plain": [
       "<pandas.io.formats.style.Styler at 0x1e2313093f0>"
      ]
     },
     "metadata": {},
     "output_type": "display_data"
    },
    {
     "name": "stdout",
     "output_type": "stream",
     "text": [
      "          city country event_category  ticket_price  prediction_label\n",
      "270     London      GB        IGHTLIF     39.990002         35.333751\n",
      "294   New York      US       WELLNESS     62.000000         49.692308\n",
      "2165    London      GB            MIX    120.000000        173.256881\n",
      "2196    London      GB            MIX    180.000000        173.256881\n",
      "2052    London      GB            MIX    225.000000        173.256881\n",
      "...        ...     ...            ...           ...               ...\n",
      "1452    London      GB            MIX    225.000000        173.256881\n",
      "1839    London      GB            MIX     80.000000        173.256881\n",
      "2274    London      GB            MIX     80.000000        173.256881\n",
      "2051    London      GB            MIX    180.000000        173.256881\n",
      "2050    London      GB            MIX    120.000000        173.256881\n",
      "\n",
      "[797 rows x 5 columns]\n"
     ]
    }
   ],
   "source": [
    "predictions = predict_model(model)\n",
    "print(predictions)"
   ]
  },
  {
   "cell_type": "code",
   "execution_count": 12,
   "metadata": {},
   "outputs": [],
   "source": [
    "final_model = finalize_model(model)"
   ]
  },
  {
   "cell_type": "code",
   "execution_count": 13,
   "metadata": {},
   "outputs": [
    {
     "name": "stdout",
     "output_type": "stream",
     "text": [
      "Transformation Pipeline and Model Successfully Saved\n"
     ]
    },
    {
     "data": {
      "text/plain": [
       "(Pipeline(memory=Memory(location=None),\n",
       "          steps=[('numerical_imputer',\n",
       "                  TransformerWrapper(include=[], transformer=SimpleImputer())),\n",
       "                 ('categorical_imputer',\n",
       "                  TransformerWrapper(include=['city', 'country',\n",
       "                                              'event_category'],\n",
       "                                     transformer=SimpleImputer(strategy='most_frequent'))),\n",
       "                 ('ordinal_encoding',\n",
       "                  TransformerWrapper(include=['country'],\n",
       "                                     transformer=OrdinalEncode...\n",
       "                                                                handle_missing='return_nan',\n",
       "                                                                mapping=[{'col': 'country',\n",
       "                                                                          'data_type': dtype('O'),\n",
       "                                                                          'mapping': GB     0\n",
       " US     1\n",
       " NaN   -1\n",
       " dtype: int64}]))),\n",
       "                 ('onehot_encoding',\n",
       "                  TransformerWrapper(include=['city', 'event_category'],\n",
       "                                     transformer=OneHotEncoder(cols=['city',\n",
       "                                                                     'event_category'],\n",
       "                                                               handle_missing='return_nan',\n",
       "                                                               use_cat_names=True))),\n",
       "                 ('trained_model', DecisionTreeRegressor(random_state=2269))]),\n",
       " 'Decision_Tree_Regressor.pkl')"
      ]
     },
     "execution_count": 13,
     "metadata": {},
     "output_type": "execute_result"
    }
   ],
   "source": [
    "save_model(model, 'Decision_Tree_Regressor') "
   ]
  }
 ],
 "metadata": {
  "kernelspec": {
   "display_name": "entorno",
   "language": "python",
   "name": "python3"
  },
  "language_info": {
   "codemirror_mode": {
    "name": "ipython",
    "version": 3
   },
   "file_extension": ".py",
   "mimetype": "text/x-python",
   "name": "python",
   "nbconvert_exporter": "python",
   "pygments_lexer": "ipython3",
   "version": "3.10.10"
  }
 },
 "nbformat": 4,
 "nbformat_minor": 2
}
