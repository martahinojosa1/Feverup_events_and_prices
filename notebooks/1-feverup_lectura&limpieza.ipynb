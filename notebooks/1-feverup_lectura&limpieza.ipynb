{
 "cells": [
  {
   "cell_type": "markdown",
   "metadata": {},
   "source": [
    "### Librerías"
   ]
  },
  {
   "cell_type": "code",
   "execution_count": 1,
   "metadata": {},
   "outputs": [],
   "source": [
    "import pandas as pd\n",
    "import numpy as np\n",
    "import matplotlib.pyplot as plt"
   ]
  },
  {
   "cell_type": "markdown",
   "metadata": {},
   "source": [
    "### Lectura datos (2 archivos .json)\n",
    "Convertir ambos a df y realizar el preprocesamiento necesario."
   ]
  },
  {
   "cell_type": "code",
   "execution_count": 2,
   "metadata": {},
   "outputs": [
    {
     "data": {
      "text/html": [
       "<div>\n",
       "<style scoped>\n",
       "    .dataframe tbody tr th:only-of-type {\n",
       "        vertical-align: middle;\n",
       "    }\n",
       "\n",
       "    .dataframe tbody tr th {\n",
       "        vertical-align: top;\n",
       "    }\n",
       "\n",
       "    .dataframe thead th {\n",
       "        text-align: right;\n",
       "    }\n",
       "</style>\n",
       "<table border=\"1\" class=\"dataframe\">\n",
       "  <thead>\n",
       "    <tr style=\"text-align: right;\">\n",
       "      <th></th>\n",
       "      <th>event_url</th>\n",
       "      <th>event_id</th>\n",
       "      <th>event_category</th>\n",
       "      <th>title</th>\n",
       "      <th>datetime_utc</th>\n",
       "      <th>datetime_local</th>\n",
       "      <th>name</th>\n",
       "      <th>address</th>\n",
       "      <th>city</th>\n",
       "      <th>state</th>\n",
       "      <th>country</th>\n",
       "      <th>postal_code</th>\n",
       "      <th>formatted_address</th>\n",
       "    </tr>\n",
       "  </thead>\n",
       "  <tbody>\n",
       "    <tr>\n",
       "      <th>0</th>\n",
       "      <td>https://feverup.com/m/91113</td>\n",
       "      <td>91113_16873_2023-10-18T09:12:00-07:00</td>\n",
       "      <td>MIX</td>\n",
       "      <td>Swan Boat Rental in Echo Park</td>\n",
       "      <td>2023/10/18 16:12:00</td>\n",
       "      <td>2023/10/18 09:12:00</td>\n",
       "      <td>Echo Park Lake</td>\n",
       "      <td>751 Echo Park Ave</td>\n",
       "      <td>Los Angeles</td>\n",
       "      <td>CA</td>\n",
       "      <td>US</td>\n",
       "      <td>90026</td>\n",
       "      <td>751 Echo Park Ave, Los Angeles, CA 90026, US</td>\n",
       "    </tr>\n",
       "    <tr>\n",
       "      <th>1</th>\n",
       "      <td>https://feverup.com/m/124686</td>\n",
       "      <td>124686_25188_2023-11-06T17:00:00-05:00</td>\n",
       "      <td>WELLNESS</td>\n",
       "      <td>American Dream - The Rink</td>\n",
       "      <td>2023/11/06 22:00:00</td>\n",
       "      <td>2023/11/06 17:00:00</td>\n",
       "      <td>Nickelodeon Universe Theme Park</td>\n",
       "      <td>1 American Dream Wy</td>\n",
       "      <td>New York</td>\n",
       "      <td>NJ</td>\n",
       "      <td>US</td>\n",
       "      <td>07072</td>\n",
       "      <td>1 American Dream Wy, East Rutherford, NJ 07072...</td>\n",
       "    </tr>\n",
       "    <tr>\n",
       "      <th>2</th>\n",
       "      <td>https://feverup.com/m/123513</td>\n",
       "      <td>123513_24973_2023-10-14T13:00:00-05:00</td>\n",
       "      <td></td>\n",
       "      <td>360 CHICAGO Observation Deck</td>\n",
       "      <td>2023/10/14 18:00:00</td>\n",
       "      <td>2023/10/14 13:00:00</td>\n",
       "      <td>360 Chicago - John Hancock Center</td>\n",
       "      <td>875 N Michigan Ave</td>\n",
       "      <td>Chicago</td>\n",
       "      <td>IL</td>\n",
       "      <td>US</td>\n",
       "      <td>60611</td>\n",
       "      <td>875 N Michigan Ave, Chicago, IL 60611, US</td>\n",
       "    </tr>\n",
       "    <tr>\n",
       "      <th>3</th>\n",
       "      <td>https://feverup.com/m/126946</td>\n",
       "      <td>126946_25716_2024-01-31T17:00:00-05:00</td>\n",
       "      <td>MIX</td>\n",
       "      <td>Toronto Old Town City Exploration Game</td>\n",
       "      <td>2024/01/31 22:00:00</td>\n",
       "      <td>2024/01/31 17:00:00</td>\n",
       "      <td>St Lawrence Market</td>\n",
       "      <td>93 Front St E</td>\n",
       "      <td>Toronto</td>\n",
       "      <td>ON</td>\n",
       "      <td>CA</td>\n",
       "      <td>M5E 1C3</td>\n",
       "      <td>93 Front St E, Toronto, ON M5E 1C3, CA</td>\n",
       "    </tr>\n",
       "    <tr>\n",
       "      <th>4</th>\n",
       "      <td>https://feverup.com/m/138878</td>\n",
       "      <td>138878_34014_2024-07-05T13:00:00-04:00</td>\n",
       "      <td>MIX</td>\n",
       "      <td>Tufting Workshop - Make your unique rug and ta...</td>\n",
       "      <td>2024/07/05 17:00:00</td>\n",
       "      <td>2024/07/05 13:00:00</td>\n",
       "      <td>Sense 7 Tufting and Handcrafts</td>\n",
       "      <td>28 W 36th St. New York</td>\n",
       "      <td>New York</td>\n",
       "      <td>NY</td>\n",
       "      <td>US</td>\n",
       "      <td>10018</td>\n",
       "      <td>28 W 36th St. New York, NY 10018, US</td>\n",
       "    </tr>\n",
       "  </tbody>\n",
       "</table>\n",
       "</div>"
      ],
      "text/plain": [
       "                      event_url                                event_id  \\\n",
       "0   https://feverup.com/m/91113   91113_16873_2023-10-18T09:12:00-07:00   \n",
       "1  https://feverup.com/m/124686  124686_25188_2023-11-06T17:00:00-05:00   \n",
       "2  https://feverup.com/m/123513  123513_24973_2023-10-14T13:00:00-05:00   \n",
       "3  https://feverup.com/m/126946  126946_25716_2024-01-31T17:00:00-05:00   \n",
       "4  https://feverup.com/m/138878  138878_34014_2024-07-05T13:00:00-04:00   \n",
       "\n",
       "  event_category                                              title  \\\n",
       "0            MIX                      Swan Boat Rental in Echo Park   \n",
       "1       WELLNESS                          American Dream - The Rink   \n",
       "2                                      360 CHICAGO Observation Deck   \n",
       "3            MIX             Toronto Old Town City Exploration Game   \n",
       "4            MIX  Tufting Workshop - Make your unique rug and ta...   \n",
       "\n",
       "          datetime_utc       datetime_local  \\\n",
       "0  2023/10/18 16:12:00  2023/10/18 09:12:00   \n",
       "1  2023/11/06 22:00:00  2023/11/06 17:00:00   \n",
       "2  2023/10/14 18:00:00  2023/10/14 13:00:00   \n",
       "3  2024/01/31 22:00:00  2024/01/31 17:00:00   \n",
       "4  2024/07/05 17:00:00  2024/07/05 13:00:00   \n",
       "\n",
       "                                name                 address         city  \\\n",
       "0                     Echo Park Lake       751 Echo Park Ave  Los Angeles   \n",
       "1    Nickelodeon Universe Theme Park     1 American Dream Wy     New York   \n",
       "2  360 Chicago - John Hancock Center      875 N Michigan Ave      Chicago   \n",
       "3                 St Lawrence Market           93 Front St E      Toronto   \n",
       "4     Sense 7 Tufting and Handcrafts  28 W 36th St. New York     New York   \n",
       "\n",
       "  state country postal_code                                  formatted_address  \n",
       "0    CA      US       90026       751 Echo Park Ave, Los Angeles, CA 90026, US  \n",
       "1    NJ      US       07072  1 American Dream Wy, East Rutherford, NJ 07072...  \n",
       "2    IL      US       60611          875 N Michigan Ave, Chicago, IL 60611, US  \n",
       "3    ON      CA     M5E 1C3             93 Front St E, Toronto, ON M5E 1C3, CA  \n",
       "4    NY      US       10018               28 W 36th St. New York, NY 10018, US  "
      ]
     },
     "execution_count": 2,
     "metadata": {},
     "output_type": "execute_result"
    }
   ],
   "source": [
    "# Leer archivo JSON 1 y cargar datos en un DataFrame\n",
    "events = pd.read_json(r'C:/Users/Marta/Desktop/BOOTCAMP_DATA_ANALYTICS\\DATA/TEMARIO/Modulo_3/8-PROYECTO_FINAL/data/feverup_events_2023-10-09.json')\n",
    "\n",
    "\n",
    "# Visualizar primeras filas\n",
    "events.head()"
   ]
  },
  {
   "cell_type": "code",
   "execution_count": 3,
   "metadata": {},
   "outputs": [
    {
     "data": {
      "text/plain": [
       "''"
      ]
     },
     "execution_count": 3,
     "metadata": {},
     "output_type": "execute_result"
    }
   ],
   "source": [
    "# Hay valores string vacíos. Comprobar con la celda (2,2)\n",
    "events.iloc[2,2]"
   ]
  },
  {
   "cell_type": "code",
   "execution_count": 4,
   "metadata": {},
   "outputs": [
    {
     "data": {
      "text/plain": [
       "event_url                0\n",
       "event_id                 0\n",
       "event_category       30204\n",
       "title                    0\n",
       "datetime_utc             0\n",
       "datetime_local           0\n",
       "name                     0\n",
       "address               3910\n",
       "city                     0\n",
       "state                 5446\n",
       "country                  0\n",
       "postal_code           3910\n",
       "formatted_address     3910\n",
       "dtype: int64"
      ]
     },
     "execution_count": 4,
     "metadata": {},
     "output_type": "execute_result"
    }
   ],
   "source": [
    "# Reemplazar los string vacios por valores NaN de numpy y sumar valores NaN por columnas\n",
    "events.replace('', np.nan, inplace=True)        # inplace=True -> los cambios se aplican directamente al DataFrame 'events'\n",
    "events.isnull().sum()"
   ]
  },
  {
   "cell_type": "code",
   "execution_count": 5,
   "metadata": {},
   "outputs": [
    {
     "data": {
      "text/html": [
       "<div>\n",
       "<style scoped>\n",
       "    .dataframe tbody tr th:only-of-type {\n",
       "        vertical-align: middle;\n",
       "    }\n",
       "\n",
       "    .dataframe tbody tr th {\n",
       "        vertical-align: top;\n",
       "    }\n",
       "\n",
       "    .dataframe thead th {\n",
       "        text-align: right;\n",
       "    }\n",
       "</style>\n",
       "<table border=\"1\" class=\"dataframe\">\n",
       "  <thead>\n",
       "    <tr style=\"text-align: right;\">\n",
       "      <th></th>\n",
       "      <th>event_url</th>\n",
       "      <th>event_id</th>\n",
       "      <th>title</th>\n",
       "      <th>datetime_utc</th>\n",
       "      <th>datetime_local</th>\n",
       "      <th>name</th>\n",
       "      <th>address</th>\n",
       "      <th>city</th>\n",
       "      <th>state</th>\n",
       "      <th>country</th>\n",
       "      <th>postal_code</th>\n",
       "      <th>scrape_date</th>\n",
       "      <th>ticket_id</th>\n",
       "      <th>ticket_price</th>\n",
       "      <th>total_price</th>\n",
       "      <th>fee</th>\n",
       "      <th>section</th>\n",
       "      <th>quantity</th>\n",
       "    </tr>\n",
       "  </thead>\n",
       "  <tbody>\n",
       "    <tr>\n",
       "      <th>0</th>\n",
       "      <td>https://feverup.com/m/100120</td>\n",
       "      <td>100120_5284_2023-10-27T203000+0100</td>\n",
       "      <td>Top Stand-Up Comedy in Covent Garden</td>\n",
       "      <td>2023-10-27 19:30:00</td>\n",
       "      <td>2023-10-27 20:30:00</td>\n",
       "      <td>Seven Dials Comedy @ The Seven Dials Club</td>\n",
       "      <td>42 Earlham St, London WC2H 9LA</td>\n",
       "      <td>London</td>\n",
       "      <td>England</td>\n",
       "      <td>GB</td>\n",
       "      <td>WC2H 9LA</td>\n",
       "      <td>2023/10/08 21:48:33</td>\n",
       "      <td>36853293</td>\n",
       "      <td>16.0</td>\n",
       "      <td>16.0</td>\n",
       "      <td>0.0</td>\n",
       "      <td>Student Ticket</td>\n",
       "      <td>50</td>\n",
       "    </tr>\n",
       "    <tr>\n",
       "      <th>1</th>\n",
       "      <td>https://feverup.com/m/100120</td>\n",
       "      <td>100120_5284_2023-10-27T203000+0100</td>\n",
       "      <td>Top Stand-Up Comedy in Covent Garden</td>\n",
       "      <td>2023-10-27 19:30:00</td>\n",
       "      <td>2023-10-27 20:30:00</td>\n",
       "      <td>Seven Dials Comedy @ The Seven Dials Club</td>\n",
       "      <td>42 Earlham St, London WC2H 9LA</td>\n",
       "      <td>London</td>\n",
       "      <td>England</td>\n",
       "      <td>GB</td>\n",
       "      <td>WC2H 9LA</td>\n",
       "      <td>2023/10/08 21:48:33</td>\n",
       "      <td>36853261</td>\n",
       "      <td>20.0</td>\n",
       "      <td>20.0</td>\n",
       "      <td>0.0</td>\n",
       "      <td>Seated Ticket</td>\n",
       "      <td>50</td>\n",
       "    </tr>\n",
       "    <tr>\n",
       "      <th>2</th>\n",
       "      <td>https://feverup.com/m/100120</td>\n",
       "      <td>100120_5284_2023-10-20T203000+0100</td>\n",
       "      <td>Top Stand-Up Comedy in Covent Garden</td>\n",
       "      <td>2023-10-20 19:30:00</td>\n",
       "      <td>2023-10-20 20:30:00</td>\n",
       "      <td>Seven Dials Comedy @ The Seven Dials Club</td>\n",
       "      <td>42 Earlham St, London WC2H 9LA</td>\n",
       "      <td>London</td>\n",
       "      <td>England</td>\n",
       "      <td>GB</td>\n",
       "      <td>WC2H 9LA</td>\n",
       "      <td>2023/10/08 21:48:33</td>\n",
       "      <td>36853292</td>\n",
       "      <td>16.0</td>\n",
       "      <td>16.0</td>\n",
       "      <td>0.0</td>\n",
       "      <td>Student Ticket</td>\n",
       "      <td>50</td>\n",
       "    </tr>\n",
       "    <tr>\n",
       "      <th>3</th>\n",
       "      <td>https://feverup.com/m/100120</td>\n",
       "      <td>100120_5284_2023-10-20T203000+0100</td>\n",
       "      <td>Top Stand-Up Comedy in Covent Garden</td>\n",
       "      <td>2023-10-20 19:30:00</td>\n",
       "      <td>2023-10-20 20:30:00</td>\n",
       "      <td>Seven Dials Comedy @ The Seven Dials Club</td>\n",
       "      <td>42 Earlham St, London WC2H 9LA</td>\n",
       "      <td>London</td>\n",
       "      <td>England</td>\n",
       "      <td>GB</td>\n",
       "      <td>WC2H 9LA</td>\n",
       "      <td>2023/10/08 21:48:33</td>\n",
       "      <td>36853259</td>\n",
       "      <td>20.0</td>\n",
       "      <td>20.0</td>\n",
       "      <td>0.0</td>\n",
       "      <td>Seated Ticket</td>\n",
       "      <td>50</td>\n",
       "    </tr>\n",
       "    <tr>\n",
       "      <th>4</th>\n",
       "      <td>https://feverup.com/m/100120</td>\n",
       "      <td>100120_5284_2023-10-21T203000+0100</td>\n",
       "      <td>Top Stand-Up Comedy in Covent Garden</td>\n",
       "      <td>2023-10-21 19:30:00</td>\n",
       "      <td>2023-10-21 20:30:00</td>\n",
       "      <td>Seven Dials Comedy @ The Seven Dials Club</td>\n",
       "      <td>42 Earlham St, London WC2H 9LA</td>\n",
       "      <td>London</td>\n",
       "      <td>England</td>\n",
       "      <td>GB</td>\n",
       "      <td>WC2H 9LA</td>\n",
       "      <td>2023/10/08 21:48:33</td>\n",
       "      <td>36853324</td>\n",
       "      <td>17.0</td>\n",
       "      <td>17.0</td>\n",
       "      <td>0.0</td>\n",
       "      <td>Student Ticket</td>\n",
       "      <td>50</td>\n",
       "    </tr>\n",
       "  </tbody>\n",
       "</table>\n",
       "</div>"
      ],
      "text/plain": [
       "                      event_url                            event_id  \\\n",
       "0  https://feverup.com/m/100120  100120_5284_2023-10-27T203000+0100   \n",
       "1  https://feverup.com/m/100120  100120_5284_2023-10-27T203000+0100   \n",
       "2  https://feverup.com/m/100120  100120_5284_2023-10-20T203000+0100   \n",
       "3  https://feverup.com/m/100120  100120_5284_2023-10-20T203000+0100   \n",
       "4  https://feverup.com/m/100120  100120_5284_2023-10-21T203000+0100   \n",
       "\n",
       "                                  title         datetime_utc  \\\n",
       "0  Top Stand-Up Comedy in Covent Garden  2023-10-27 19:30:00   \n",
       "1  Top Stand-Up Comedy in Covent Garden  2023-10-27 19:30:00   \n",
       "2  Top Stand-Up Comedy in Covent Garden  2023-10-20 19:30:00   \n",
       "3  Top Stand-Up Comedy in Covent Garden  2023-10-20 19:30:00   \n",
       "4  Top Stand-Up Comedy in Covent Garden  2023-10-21 19:30:00   \n",
       "\n",
       "        datetime_local                                       name  \\\n",
       "0  2023-10-27 20:30:00  Seven Dials Comedy @ The Seven Dials Club   \n",
       "1  2023-10-27 20:30:00  Seven Dials Comedy @ The Seven Dials Club   \n",
       "2  2023-10-20 20:30:00  Seven Dials Comedy @ The Seven Dials Club   \n",
       "3  2023-10-20 20:30:00  Seven Dials Comedy @ The Seven Dials Club   \n",
       "4  2023-10-21 20:30:00  Seven Dials Comedy @ The Seven Dials Club   \n",
       "\n",
       "                          address    city    state country postal_code  \\\n",
       "0  42 Earlham St, London WC2H 9LA  London  England      GB    WC2H 9LA   \n",
       "1  42 Earlham St, London WC2H 9LA  London  England      GB    WC2H 9LA   \n",
       "2  42 Earlham St, London WC2H 9LA  London  England      GB    WC2H 9LA   \n",
       "3  42 Earlham St, London WC2H 9LA  London  England      GB    WC2H 9LA   \n",
       "4  42 Earlham St, London WC2H 9LA  London  England      GB    WC2H 9LA   \n",
       "\n",
       "           scrape_date  ticket_id  ticket_price  total_price  fee  \\\n",
       "0  2023/10/08 21:48:33   36853293          16.0         16.0  0.0   \n",
       "1  2023/10/08 21:48:33   36853261          20.0         20.0  0.0   \n",
       "2  2023/10/08 21:48:33   36853292          16.0         16.0  0.0   \n",
       "3  2023/10/08 21:48:33   36853259          20.0         20.0  0.0   \n",
       "4  2023/10/08 21:48:33   36853324          17.0         17.0  0.0   \n",
       "\n",
       "          section  quantity  \n",
       "0  Student Ticket        50  \n",
       "1   Seated Ticket        50  \n",
       "2  Student Ticket        50  \n",
       "3   Seated Ticket        50  \n",
       "4  Student Ticket        50  "
      ]
     },
     "execution_count": 5,
     "metadata": {},
     "output_type": "execute_result"
    }
   ],
   "source": [
    "# Leer archivo JSON 2 y cargar datos en un DataFrame\n",
    "tickets = pd.read_json(r'C:/Users/Marta/Desktop/BOOTCAMP_DATA_ANALYTICS/DATA/TEMARIO/Modulo_3/8-PROYECTO_FINAL/data/feverup_events_and_tickets_listings_2023-10-09.json', lines=True)   # lines=True -> cada línea del archivo representa un objeto JSON completo, separado por saltos de línea.\n",
    "\n",
    "# Visualizar primeras filas\n",
    "tickets.head()"
   ]
  },
  {
   "cell_type": "code",
   "execution_count": 6,
   "metadata": {},
   "outputs": [
    {
     "data": {
      "text/plain": [
       "event_url         0\n",
       "event_id          0\n",
       "title             0\n",
       "datetime_utc      0\n",
       "datetime_local    0\n",
       "name              0\n",
       "address           0\n",
       "city              0\n",
       "state             0\n",
       "country           0\n",
       "postal_code       0\n",
       "scrape_date       0\n",
       "ticket_id         0\n",
       "ticket_price      0\n",
       "total_price       0\n",
       "fee               0\n",
       "section           0\n",
       "quantity          0\n",
       "dtype: int64"
      ]
     },
     "execution_count": 6,
     "metadata": {},
     "output_type": "execute_result"
    }
   ],
   "source": [
    "# Comprobar si hay nulos rellenando posibles espacios vacíos, como en el df de 'events'\n",
    "tickets.replace('', np.nan).isnull().sum()"
   ]
  },
  {
   "cell_type": "code",
   "execution_count": 7,
   "metadata": {},
   "outputs": [
    {
     "name": "stdout",
     "output_type": "stream",
     "text": [
      "Los datos están compuestos por (filas, columnas): \n",
      "events =  (233725, 13)\n",
      "tickets =  (2655, 18)\n"
     ]
    }
   ],
   "source": [
    "events_shape = events.shape\n",
    "tickets_shape = tickets.shape\n",
    "\n",
    "print(\"Los datos están compuestos por (filas, columnas): \")\n",
    "print(\"events = \", events.shape)\n",
    "print(\"tickets = \", tickets_shape)"
   ]
  },
  {
   "cell_type": "code",
   "execution_count": 8,
   "metadata": {},
   "outputs": [
    {
     "data": {
      "text/plain": [
       "Index(['event_url', 'event_id', 'event_category', 'title', 'datetime_utc',\n",
       "       'datetime_local', 'name', 'address', 'city', 'state', 'country',\n",
       "       'postal_code', 'formatted_address'],\n",
       "      dtype='object')"
      ]
     },
     "execution_count": 8,
     "metadata": {},
     "output_type": "execute_result"
    }
   ],
   "source": [
    "events.columns"
   ]
  },
  {
   "cell_type": "code",
   "execution_count": 9,
   "metadata": {},
   "outputs": [
    {
     "data": {
      "text/plain": [
       "Index(['event_url', 'event_id', 'title', 'datetime_utc', 'datetime_local',\n",
       "       'name', 'address', 'city', 'state', 'country', 'postal_code',\n",
       "       'scrape_date', 'ticket_id', 'ticket_price', 'total_price', 'fee',\n",
       "       'section', 'quantity'],\n",
       "      dtype='object')"
      ]
     },
     "execution_count": 9,
     "metadata": {},
     "output_type": "execute_result"
    }
   ],
   "source": [
    "tickets.columns"
   ]
  },
  {
   "cell_type": "code",
   "execution_count": 10,
   "metadata": {},
   "outputs": [
    {
     "name": "stdout",
     "output_type": "stream",
     "text": [
      "<class 'pandas.core.frame.DataFrame'>\n",
      "RangeIndex: 233725 entries, 0 to 233724\n",
      "Data columns (total 13 columns):\n",
      " #   Column             Non-Null Count   Dtype \n",
      "---  ------             --------------   ----- \n",
      " 0   event_url          233725 non-null  object\n",
      " 1   event_id           233725 non-null  object\n",
      " 2   event_category     203521 non-null  object\n",
      " 3   title              233725 non-null  object\n",
      " 4   datetime_utc       233725 non-null  object\n",
      " 5   datetime_local     233725 non-null  object\n",
      " 6   name               233725 non-null  object\n",
      " 7   address            229815 non-null  object\n",
      " 8   city               233725 non-null  object\n",
      " 9   state              228279 non-null  object\n",
      " 10  country            233725 non-null  object\n",
      " 11  postal_code        229815 non-null  object\n",
      " 12  formatted_address  229815 non-null  object\n",
      "dtypes: object(13)\n",
      "memory usage: 23.2+ MB\n"
     ]
    }
   ],
   "source": [
    "events.info()"
   ]
  },
  {
   "cell_type": "code",
   "execution_count": 11,
   "metadata": {},
   "outputs": [
    {
     "name": "stdout",
     "output_type": "stream",
     "text": [
      "<class 'pandas.core.frame.DataFrame'>\n",
      "RangeIndex: 2655 entries, 0 to 2654\n",
      "Data columns (total 18 columns):\n",
      " #   Column          Non-Null Count  Dtype  \n",
      "---  ------          --------------  -----  \n",
      " 0   event_url       2655 non-null   object \n",
      " 1   event_id        2655 non-null   object \n",
      " 2   title           2655 non-null   object \n",
      " 3   datetime_utc    2655 non-null   object \n",
      " 4   datetime_local  2655 non-null   object \n",
      " 5   name            2655 non-null   object \n",
      " 6   address         2655 non-null   object \n",
      " 7   city            2655 non-null   object \n",
      " 8   state           2655 non-null   object \n",
      " 9   country         2655 non-null   object \n",
      " 10  postal_code     2655 non-null   object \n",
      " 11  scrape_date     2655 non-null   object \n",
      " 12  ticket_id       2655 non-null   int64  \n",
      " 13  ticket_price    2655 non-null   float64\n",
      " 14  total_price     2655 non-null   float64\n",
      " 15  fee             2655 non-null   float64\n",
      " 16  section         2655 non-null   object \n",
      " 17  quantity        2655 non-null   int64  \n",
      "dtypes: float64(3), int64(2), object(13)\n",
      "memory usage: 373.5+ KB\n"
     ]
    }
   ],
   "source": [
    "tickets.info()"
   ]
  },
  {
   "cell_type": "markdown",
   "metadata": {},
   "source": [
    "### Selección columnas dataframes"
   ]
  },
  {
   "cell_type": "code",
   "execution_count": 12,
   "metadata": {},
   "outputs": [],
   "source": [
    "# Hacer una copia del df de 'events' con la selección de columnas para el estudio\n",
    "events_copy = events.copy()\n",
    "events_copy = events[['event_url', 'event_category', 'title', 'datetime_local', 'name', 'city', 'state', 'country', 'postal_code']]\n",
    "\n",
    "# Igual con df 'tickets'\n",
    "tickets_copy = tickets.copy()\n",
    "tickets_copy = tickets [['event_url', 'title', 'datetime_local', 'city', 'state', 'country', 'postal_code', 'ticket_id', 'ticket_price', 'total_price', 'quantity']]"
   ]
  },
  {
   "cell_type": "markdown",
   "metadata": {},
   "source": [
    "### Comprobación valores nulos y duplicados en dataframes / copias (columnas filtradas)"
   ]
  },
  {
   "cell_type": "code",
   "execution_count": 13,
   "metadata": {},
   "outputs": [
    {
     "data": {
      "text/plain": [
       "event_url             0\n",
       "event_category    30204\n",
       "title                 0\n",
       "datetime_local        0\n",
       "name                  0\n",
       "city                  0\n",
       "state              5446\n",
       "country               0\n",
       "postal_code        3910\n",
       "dtype: int64"
      ]
     },
     "execution_count": 13,
     "metadata": {},
     "output_type": "execute_result"
    }
   ],
   "source": [
    "events_copy.isnull().sum()"
   ]
  },
  {
   "cell_type": "code",
   "execution_count": 14,
   "metadata": {},
   "outputs": [
    {
     "data": {
      "text/plain": [
       "event_url         0\n",
       "title             0\n",
       "datetime_local    0\n",
       "city              0\n",
       "state             0\n",
       "country           0\n",
       "postal_code       0\n",
       "ticket_id         0\n",
       "ticket_price      0\n",
       "total_price       0\n",
       "quantity          0\n",
       "dtype: int64"
      ]
     },
     "execution_count": 14,
     "metadata": {},
     "output_type": "execute_result"
    }
   ],
   "source": [
    "tickets_copy.isnull().sum()"
   ]
  },
  {
   "cell_type": "code",
   "execution_count": 15,
   "metadata": {},
   "outputs": [
    {
     "data": {
      "text/plain": [
       "0"
      ]
     },
     "execution_count": 15,
     "metadata": {},
     "output_type": "execute_result"
    }
   ],
   "source": [
    "events_copy.duplicated().sum()"
   ]
  },
  {
   "cell_type": "code",
   "execution_count": 16,
   "metadata": {},
   "outputs": [
    {
     "data": {
      "text/plain": [
       "0"
      ]
     },
     "execution_count": 16,
     "metadata": {},
     "output_type": "execute_result"
    }
   ],
   "source": [
    "tickets_copy.duplicated().sum()"
   ]
  },
  {
   "cell_type": "markdown",
   "metadata": {},
   "source": [
    "### Tratar valores NaN "
   ]
  },
  {
   "cell_type": "markdown",
   "metadata": {},
   "source": [
    "#### Columna 'event_category'"
   ]
  },
  {
   "cell_type": "code",
   "execution_count": 17,
   "metadata": {},
   "outputs": [
    {
     "data": {
      "image/png": "[encoded data removed]",
      "text/plain": [
       "<Figure size 1000x600 with 1 Axes>"
      ]
     },
     "metadata": {},
     "output_type": "display_data"
    }
   ],
   "source": [
    "# Distribución valores en 'events_category'\n",
    "plt.figure(figsize=(10, 6))\n",
    "events_copy['event_category'].value_counts().plot(kind='bar')\n",
    "plt.title('Categorías de eventos')\n",
    "plt.xlabel('Valores')\n",
    "plt.ylabel('Frecuencia')\n",
    "plt.show()"
   ]
  },
  {
   "cell_type": "code",
   "execution_count": 18,
   "metadata": {},
   "outputs": [
    {
     "data": {
      "text/plain": [
       "event_category\n",
       "MIX         107598\n",
       "ART          40586\n",
       "SPORT        16535\n",
       "TASTING      14433\n",
       "THEATER       8515\n",
       "IGHTLIF       8187\n",
       "CONCERT       3309\n",
       "WELLNESS      2632\n",
       "CINEMA        1724\n",
       "FASHI            2\n",
       "Name: count, dtype: int64"
      ]
     },
     "execution_count": 18,
     "metadata": {},
     "output_type": "execute_result"
    }
   ],
   "source": [
    "events_copy['event_category'].value_counts()"
   ]
  },
  {
   "cell_type": "code",
   "execution_count": 19,
   "metadata": {},
   "outputs": [
    {
     "name": "stderr",
     "output_type": "stream",
     "text": [
      "C:\\Users\\Marta\\AppData\\Local\\Temp\\ipykernel_11812\\844071782.py:3: SettingWithCopyWarning: \n",
      "A value is trying to be set on a copy of a slice from a DataFrame\n",
      "\n",
      "See the caveats in the documentation: https://pandas.pydata.org/pandas-docs/stable/user_guide/indexing.html#returning-a-view-versus-a-copy\n",
      "  events_copy.loc[events_copy['event_category'].isnull(), 'event_category'] = category_mode     # Rellenar los valores NaN en la columna 'event_category' con la moda calculada\n"
     ]
    },
    {
     "data": {
      "text/plain": [
       "0"
      ]
     },
     "execution_count": 19,
     "metadata": {},
     "output_type": "execute_result"
    }
   ],
   "source": [
    "# Sustituir valores NaN en columna 'event_category' por la moda\n",
    "category_mode = events_copy['event_category'].mode()[0]                                       # Calcular la moda de la columna 'event_category'\n",
    "events_copy.loc[events_copy['event_category'].isnull(), 'event_category'] = category_mode     # Rellenar los valores NaN en la columna 'event_category' con la moda calculada\n",
    "events_copy['event_category'].isnull().sum()"
   ]
  },
  {
   "cell_type": "markdown",
   "metadata": {},
   "source": [
    "#### Columnas 'state' y 'postal_code'"
   ]
  },
  {
   "cell_type": "code",
   "execution_count": 20,
   "metadata": {},
   "outputs": [
    {
     "name": "stdout",
     "output_type": "stream",
     "text": [
      "El porcentaje de valores NaN en la columna 'state' es: 2.33%\n",
      "El porcentaje de valores NaN en la columna 'postal_code' es: 1.67%\n"
     ]
    }
   ],
   "source": [
    "# Porcentaje de NaN en ambas columnas (%)\n",
    "cantidad_nan_st = events_copy['state'].isna().sum()                 # Columna 'state'\n",
    "total_filas_st = len(events_copy)                                   # Total filas en columna 'state'\n",
    "porcentaje_nan_st = (cantidad_nan_st / total_filas_st) * 100        # Porcentaje de valores NaN\n",
    "\n",
    "cantidad_nan_pc = events_copy['postal_code'].isna().sum()           # Columna 'postal_code'\n",
    "total_filas_pc = len(events_copy)                                   # Total filas en columna 'postal_code'\n",
    "porcentaje_nan_pc = (cantidad_nan_pc / total_filas_pc) * 100        # Porcentaje de valores NaN\n",
    "\n",
    "print(f\"El porcentaje de valores NaN en la columna 'state' es: {porcentaje_nan_st:.2f}%\")\n",
    "print(f\"El porcentaje de valores NaN en la columna 'postal_code' es: {porcentaje_nan_pc:.2f}%\")\n"
   ]
  },
  {
   "cell_type": "code",
   "execution_count": 21,
   "metadata": {},
   "outputs": [
    {
     "name": "stderr",
     "output_type": "stream",
     "text": [
      "C:\\Users\\Marta\\AppData\\Local\\Temp\\ipykernel_11812\\246890376.py:2: SettingWithCopyWarning: \n",
      "A value is trying to be set on a copy of a slice from a DataFrame\n",
      "\n",
      "See the caveats in the documentation: https://pandas.pydata.org/pandas-docs/stable/user_guide/indexing.html#returning-a-view-versus-a-copy\n",
      "  events_copy.dropna(subset=['state'], inplace=True)\n",
      "C:\\Users\\Marta\\AppData\\Local\\Temp\\ipykernel_11812\\246890376.py:3: SettingWithCopyWarning: \n",
      "A value is trying to be set on a copy of a slice from a DataFrame\n",
      "\n",
      "See the caveats in the documentation: https://pandas.pydata.org/pandas-docs/stable/user_guide/indexing.html#returning-a-view-versus-a-copy\n",
      "  events_copy.dropna(subset=['postal_code'], inplace=True)\n"
     ]
    }
   ],
   "source": [
    "# Borrar filas con NaN de ambas columnas\n",
    "events_copy.dropna(subset=['state'], inplace=True)\n",
    "events_copy.dropna(subset=['postal_code'], inplace=True)"
   ]
  },
  {
   "cell_type": "markdown",
   "metadata": {},
   "source": [
    "### Añadir columna 'event_category' al dataframe de 'tickets'"
   ]
  },
  {
   "cell_type": "code",
   "execution_count": 22,
   "metadata": {},
   "outputs": [
    {
     "name": "stderr",
     "output_type": "stream",
     "text": [
      "C:\\Users\\Marta\\AppData\\Local\\Temp\\ipykernel_11812\\3561266227.py:4: SettingWithCopyWarning: \n",
      "A value is trying to be set on a copy of a slice from a DataFrame.\n",
      "Try using .loc[row_indexer,col_indexer] = value instead\n",
      "\n",
      "See the caveats in the documentation: https://pandas.pydata.org/pandas-docs/stable/user_guide/indexing.html#returning-a-view-versus-a-copy\n",
      "  tickets_copy['event_category'] = tickets_copy['event_url'].map(event_url_category_map)              # Utilizar map para asignar 'event_category' basado en 'event_url'\n"
     ]
    }
   ],
   "source": [
    "# Para el estudio, es interesante que el df de 'tickets' tenga también la categoría de cada evento. La añado con función .map\n",
    "\n",
    "event_url_category_map = events.set_index('event_url')['event_category'].to_dict()                  # Crear un diccionario de 'event_url' y 'event_category' del dataframe 'events'\n",
    "tickets_copy['event_category'] = tickets_copy['event_url'].map(event_url_category_map)              # Utilizar map para asignar 'event_category' basado en 'event_url'"
   ]
  },
  {
   "cell_type": "markdown",
   "metadata": {},
   "source": [
    "### Arreglar tipo de datos en columnas"
   ]
  },
  {
   "cell_type": "code",
   "execution_count": 23,
   "metadata": {},
   "outputs": [
    {
     "name": "stderr",
     "output_type": "stream",
     "text": [
      "C:\\Users\\Marta\\AppData\\Local\\Temp\\ipykernel_11812\\1705328025.py:2: SettingWithCopyWarning: \n",
      "A value is trying to be set on a copy of a slice from a DataFrame.\n",
      "Try using .loc[row_indexer,col_indexer] = value instead\n",
      "\n",
      "See the caveats in the documentation: https://pandas.pydata.org/pandas-docs/stable/user_guide/indexing.html#returning-a-view-versus-a-copy\n",
      "  events_copy['datetime_local'] = pd.to_datetime(events_copy['datetime_local'])           # Modificar columna 'datime_local' a tipo datetime\n",
      "C:\\Users\\Marta\\AppData\\Local\\Temp\\ipykernel_11812\\1705328025.py:5: SettingWithCopyWarning: \n",
      "A value is trying to be set on a copy of a slice from a DataFrame.\n",
      "Try using .loc[row_indexer,col_indexer] = value instead\n",
      "\n",
      "See the caveats in the documentation: https://pandas.pydata.org/pandas-docs/stable/user_guide/indexing.html#returning-a-view-versus-a-copy\n",
      "  tickets_copy['datetime_local'] = pd.to_datetime(tickets_copy['datetime_local'])         # Modificar columna 'datime_local' a tipo datetime\n",
      "C:\\Users\\Marta\\AppData\\Local\\Temp\\ipykernel_11812\\1705328025.py:6: SettingWithCopyWarning: \n",
      "A value is trying to be set on a copy of a slice from a DataFrame.\n",
      "Try using .loc[row_indexer,col_indexer] = value instead\n",
      "\n",
      "See the caveats in the documentation: https://pandas.pydata.org/pandas-docs/stable/user_guide/indexing.html#returning-a-view-versus-a-copy\n",
      "  tickets_copy['ticket_id'] = tickets_copy['ticket_id'].astype(str)                       # Modificar columna 'ticket_id' a object\n"
     ]
    }
   ],
   "source": [
    "# DATAFRAME 1 -> events_copy\n",
    "events_copy['datetime_local'] = pd.to_datetime(events_copy['datetime_local'])           # Modificar columna 'datime_local' a tipo datetime\n",
    "\n",
    "# DATAFRAME 2 -> tickets_copy\n",
    "tickets_copy['datetime_local'] = pd.to_datetime(tickets_copy['datetime_local'])         # Modificar columna 'datime_local' a tipo datetime\n",
    "tickets_copy['ticket_id'] = tickets_copy['ticket_id'].astype(str)                       # Modificar columna 'ticket_id' a object"
   ]
  },
  {
   "cell_type": "code",
   "execution_count": 24,
   "metadata": {},
   "outputs": [
    {
     "name": "stdout",
     "output_type": "stream",
     "text": [
      "<class 'pandas.core.frame.DataFrame'>\n",
      "RangeIndex: 2655 entries, 0 to 2654\n",
      "Data columns (total 12 columns):\n",
      " #   Column          Non-Null Count  Dtype         \n",
      "---  ------          --------------  -----         \n",
      " 0   event_url       2655 non-null   object        \n",
      " 1   title           2655 non-null   object        \n",
      " 2   datetime_local  2655 non-null   datetime64[ns]\n",
      " 3   city            2655 non-null   object        \n",
      " 4   state           2655 non-null   object        \n",
      " 5   country         2655 non-null   object        \n",
      " 6   postal_code     2655 non-null   object        \n",
      " 7   ticket_id       2655 non-null   object        \n",
      " 8   ticket_price    2655 non-null   float64       \n",
      " 9   total_price     2655 non-null   float64       \n",
      " 10  quantity        2655 non-null   int64         \n",
      " 11  event_category  2655 non-null   object        \n",
      "dtypes: datetime64[ns](1), float64(2), int64(1), object(8)\n",
      "memory usage: 249.0+ KB\n",
      "<class 'pandas.core.frame.DataFrame'>\n",
      "Index: 228279 entries, 0 to 233724\n",
      "Data columns (total 9 columns):\n",
      " #   Column          Non-Null Count   Dtype         \n",
      "---  ------          --------------   -----         \n",
      " 0   event_url       228279 non-null  object        \n",
      " 1   event_category  228279 non-null  object        \n",
      " 2   title           228279 non-null  object        \n",
      " 3   datetime_local  228279 non-null  datetime64[ns]\n",
      " 4   name            228279 non-null  object        \n",
      " 5   city            228279 non-null  object        \n",
      " 6   state           228279 non-null  object        \n",
      " 7   country         228279 non-null  object        \n",
      " 8   postal_code     228279 non-null  object        \n",
      "dtypes: datetime64[ns](1), object(8)\n",
      "memory usage: 17.4+ MB\n"
     ]
    },
    {
     "data": {
      "text/plain": [
       "(None, None)"
      ]
     },
     "execution_count": 24,
     "metadata": {},
     "output_type": "execute_result"
    }
   ],
   "source": [
    "tickets_copy.info(), events_copy.info()"
   ]
  },
  {
   "cell_type": "code",
   "execution_count": 25,
   "metadata": {},
   "outputs": [
    {
     "data": {
      "text/plain": [
       "(2655, 12)"
      ]
     },
     "execution_count": 25,
     "metadata": {},
     "output_type": "execute_result"
    }
   ],
   "source": [
    "tickets_copy.shape"
   ]
  },
  {
   "cell_type": "code",
   "execution_count": 26,
   "metadata": {},
   "outputs": [
    {
     "data": {
      "text/plain": [
       "event_url         0\n",
       "title             0\n",
       "datetime_local    0\n",
       "city              0\n",
       "state             0\n",
       "country           0\n",
       "postal_code       0\n",
       "ticket_id         0\n",
       "ticket_price      0\n",
       "total_price       0\n",
       "quantity          0\n",
       "event_category    0\n",
       "dtype: int64"
      ]
     },
     "execution_count": 26,
     "metadata": {},
     "output_type": "execute_result"
    }
   ],
   "source": [
    "tickets_copy.isnull().sum()"
   ]
  },
  {
   "cell_type": "code",
   "execution_count": 27,
   "metadata": {},
   "outputs": [
    {
     "data": {
      "text/plain": [
       "event_url         0\n",
       "event_category    0\n",
       "title             0\n",
       "datetime_local    0\n",
       "name              0\n",
       "city              0\n",
       "state             0\n",
       "country           0\n",
       "postal_code       0\n",
       "dtype: int64"
      ]
     },
     "execution_count": 27,
     "metadata": {},
     "output_type": "execute_result"
    }
   ],
   "source": [
    "events_copy.isnull().sum()"
   ]
  },
  {
   "cell_type": "markdown",
   "metadata": {},
   "source": [
    "### Guardar ambos .csv procesados"
   ]
  },
  {
   "cell_type": "code",
   "execution_count": 28,
   "metadata": {},
   "outputs": [],
   "source": [
    "events_copy.to_csv('events_processed.csv', index=False)\n",
    "tickets_copy.to_csv('tickets_processed.csv', index=False)"
   ]
  },
  {
   "cell_type": "markdown",
   "metadata": {},
   "source": [
    "### ** Nota\n",
    "\n",
    "Los datos de 'tickets' fueron scrapeados el 2023/10/08 21:48:33."
   ]
  }
 ],
 "metadata": {
  "kernelspec": {
   "display_name": "entorno",
   "language": "python",
   "name": "python3"
  },
  "language_info": {
   "codemirror_mode": {
    "name": "ipython",
    "version": 3
   },
   "file_extension": ".py",
   "mimetype": "text/x-python",
   "name": "python",
   "nbconvert_exporter": "python",
   "pygments_lexer": "ipython3",
   "version": "3.10.10"
  }
 },
 "nbformat": 4,
 "nbformat_minor": 2
}
